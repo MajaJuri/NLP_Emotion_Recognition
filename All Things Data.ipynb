{
 "cells": [
  {
   "cell_type": "markdown",
   "id": "de6ba834-8500-4024-9837-1f8e2c1c5d5e",
   "metadata": {
    "collapsed": true,
    "jupyter": {
     "outputs_hidden": true
    }
   },
   "source": [
    "# All Things Data"
   ]
  },
  {
   "cell_type": "code",
   "execution_count": 44,
   "id": "ee15d1f3-2f02-4e1d-9dd8-bc69865c86d7",
   "metadata": {
    "ExecuteTime": {
     "end_time": "2024-01-11T10:55:43.541177500Z",
     "start_time": "2024-01-11T10:55:37.372653700Z"
    }
   },
   "outputs": [],
   "source": [
    "import os\n",
    "import pandas as pd\n",
    "import string\n",
    "from nltk.tokenize import word_tokenize\n",
    "from nltk.corpus import stopwords\n",
    "from nltk.stem import WordNetLemmatizer\n",
    "import nltk\n",
    "import re\n",
    "from tqdm import tqdm\n",
    "import matplotlib.pyplot as plt\n",
    "\n",
    "import warnings\n",
    "warnings.filterwarnings('ignore')"
   ]
  },
  {
   "cell_type": "code",
   "execution_count": 45,
   "id": "ab9e9b2e-04ad-47ea-979b-f6115a36ce1a",
   "metadata": {
    "ExecuteTime": {
     "end_time": "2024-01-11T10:55:51.213139900Z",
     "start_time": "2024-01-11T10:55:51.163811600Z"
    }
   },
   "outputs": [],
   "source": [
    "#nltk.download('punkt')\n",
    "#nltk.download('stopwords')\n",
    "#nltk.download('wordnet')"
   ]
  },
  {
   "cell_type": "markdown",
   "id": "1d5137f5-d902-4931-b223-973ca1d8e85b",
   "metadata": {},
   "source": [
    "## Loading"
   ]
  },
  {
   "cell_type": "code",
   "execution_count": 46,
   "id": "ba19f0c3-a040-4baf-b56c-5360953a9e38",
   "metadata": {
    "ExecuteTime": {
     "end_time": "2024-01-11T10:55:55.768071800Z",
     "start_time": "2024-01-11T10:55:55.719657100Z"
    }
   },
   "outputs": [],
   "source": [
    "emotions = {\n",
    "    0:'no_emotion',\n",
    "    1:'anger',\n",
    "    2:'disgust',\n",
    "    3:'fear',\n",
    "    4:'happiness',\n",
    "    5:'sadness',\n",
    "    6:'surprise',\n",
    "    7: 'shame'\n",
    "}"
   ]
  },
  {
   "cell_type": "code",
   "execution_count": 47,
   "id": "a806a7c1-cc31-4774-94c9-b049224ea48a",
   "metadata": {
    "ExecuteTime": {
     "end_time": "2024-01-11T10:55:56.485361400Z",
     "start_time": "2024-01-11T10:55:56.428093500Z"
    }
   },
   "outputs": [],
   "source": [
    "dataset_directory_path = 'full_dataset'\n",
    "\n",
    "dataframes = []\n",
    "\n",
    "csv_files = [file for file in os.listdir(dataset_directory_path) if file.endswith('.csv')]"
   ]
  },
  {
   "cell_type": "code",
   "execution_count": 48,
   "id": "988d81da-1518-4b30-8eb5-9011fbc45edf",
   "metadata": {
    "ExecuteTime": {
     "end_time": "2024-01-11T10:55:57.128629800Z",
     "start_time": "2024-01-11T10:55:56.987865700Z"
    }
   },
   "outputs": [
    {
     "data": {
      "text/plain": [
       "emotion\n",
       "happiness    1081\n",
       "fear         1081\n",
       "anger        1071\n",
       "sadness      1067\n",
       "disgust      1067\n",
       "shame        1054\n",
       "guilt        1052\n",
       "Name: count, dtype: int64"
      ]
     },
     "execution_count": 48,
     "metadata": {},
     "output_type": "execute_result"
    }
   ],
   "source": [
    "file_path = os.path.join(dataset_directory_path, 'isear.csv')\n",
    "df = pd.read_csv(file_path)\n",
    "df['Emotion'] = df['Emotion'].replace('joy', 'happiness')\n",
    "df.rename(columns={'Emotion': 'emotion'}, inplace=True)\n",
    "df.rename(columns={'Text': 'text'}, inplace=True)\n",
    "dataframes.append(df)\n",
    "df.emotion.value_counts()"
   ]
  },
  {
   "cell_type": "code",
   "execution_count": 49,
   "id": "71617f55-a65c-43c8-b4a0-b143d3d66423",
   "metadata": {},
   "outputs": [
    {
     "data": {
      "text/plain": [
       "emotion\n",
       "sadness      575\n",
       "anger        483\n",
       "happiness    479\n",
       "fear         423\n",
       "surprise     213\n",
       "shame        146\n",
       "disgust       95\n",
       "Name: count, dtype: int64"
      ]
     },
     "execution_count": 49,
     "metadata": {},
     "output_type": "execute_result"
    }
   ],
   "source": [
    "file_path = os.path.join(dataset_directory_path, 'emotion-stimulus.csv')\n",
    "df = pd.read_csv(file_path)\n",
    "df['Emotion'] = df['Emotion'].replace('sad', 'sadness')\n",
    "df['Emotion'] = df['Emotion'].replace('happy', 'happiness')\n",
    "df.rename(columns={'Emotion': 'emotion'}, inplace=True)\n",
    "df.rename(columns={'Text': 'text'}, inplace=True)\n",
    "dataframes.append(df)\n",
    "df.emotion.value_counts()"
   ]
  },
  {
   "cell_type": "code",
   "execution_count": 50,
   "id": "95ded76f-5406-4ac8-88a9-0db644b5cd8e",
   "metadata": {},
   "outputs": [
    {
     "data": {
      "text/html": [
       "<div>\n",
       "<style scoped>\n",
       "    .dataframe tbody tr th:only-of-type {\n",
       "        vertical-align: middle;\n",
       "    }\n",
       "\n",
       "    .dataframe tbody tr th {\n",
       "        vertical-align: top;\n",
       "    }\n",
       "\n",
       "    .dataframe thead th {\n",
       "        text-align: right;\n",
       "    }\n",
       "</style>\n",
       "<table border=\"1\" class=\"dataframe\">\n",
       "  <thead>\n",
       "    <tr style=\"text-align: right;\">\n",
       "      <th></th>\n",
       "      <th>emotion</th>\n",
       "      <th>text</th>\n",
       "    </tr>\n",
       "  </thead>\n",
       "  <tbody>\n",
       "    <tr>\n",
       "      <th>0</th>\n",
       "      <td>happiness</td>\n",
       "      <td>During the period of falling in love, each tim...</td>\n",
       "    </tr>\n",
       "    <tr>\n",
       "      <th>1</th>\n",
       "      <td>fear</td>\n",
       "      <td>When I was involved in a traffic accident.</td>\n",
       "    </tr>\n",
       "    <tr>\n",
       "      <th>2</th>\n",
       "      <td>anger</td>\n",
       "      <td>When I was driving home after  several days of...</td>\n",
       "    </tr>\n",
       "    <tr>\n",
       "      <th>3</th>\n",
       "      <td>sadness</td>\n",
       "      <td>When I lost the person who meant the most to me.</td>\n",
       "    </tr>\n",
       "    <tr>\n",
       "      <th>4</th>\n",
       "      <td>disgust</td>\n",
       "      <td>The time I knocked a deer down - the sight of ...</td>\n",
       "    </tr>\n",
       "  </tbody>\n",
       "</table>\n",
       "</div>"
      ],
      "text/plain": [
       "     emotion                                               text\n",
       "0  happiness  During the period of falling in love, each tim...\n",
       "1       fear         When I was involved in a traffic accident.\n",
       "2      anger  When I was driving home after  several days of...\n",
       "3    sadness  When I lost the person who meant the most to me. \n",
       "4    disgust  The time I knocked a deer down - the sight of ..."
      ]
     },
     "execution_count": 50,
     "metadata": {},
     "output_type": "execute_result"
    }
   ],
   "source": [
    "merged_df = pd.concat(dataframes, axis=0, ignore_index=True)\n",
    "merged_df.head(n=5)"
   ]
  },
  {
   "cell_type": "code",
   "execution_count": 51,
   "id": "765af877-263a-44fd-b7b1-98a606b9f207",
   "metadata": {},
   "outputs": [
    {
     "data": {
      "text/plain": [
       "emotion\n",
       "sadness      1642\n",
       "happiness    1560\n",
       "anger        1554\n",
       "fear         1504\n",
       "shame        1200\n",
       "disgust      1162\n",
       "guilt        1052\n",
       "surprise      213\n",
       "Name: count, dtype: int64"
      ]
     },
     "execution_count": 51,
     "metadata": {},
     "output_type": "execute_result"
    }
   ],
   "source": [
    "merged_df.emotion.value_counts()"
   ]
  },
  {
   "cell_type": "code",
   "execution_count": 52,
   "id": "6b56ae40-9335-4616-98f0-a0af2da85d09",
   "metadata": {},
   "outputs": [
    {
     "name": "stdout",
     "output_type": "stream",
     "text": [
      "Columns:\n",
      "\t emotion\n",
      "\t text\n"
     ]
    }
   ],
   "source": [
    "print(\"Columns:\")\n",
    "for c in merged_df.columns.tolist():\n",
    "    print(\"\\t\", c)"
   ]
  },
  {
   "cell_type": "code",
   "execution_count": 53,
   "id": "5cd6915a-6cf3-4bcc-9d8d-b1e7cf78bb89",
   "metadata": {},
   "outputs": [
    {
     "name": "stdout",
     "output_type": "stream",
     "text": [
      "All emotions:\n",
      "\t happiness\n",
      "\t fear\n",
      "\t anger\n",
      "\t sadness\n",
      "\t disgust\n",
      "\t shame\n",
      "\t guilt\n",
      "\t surprise\n"
     ]
    }
   ],
   "source": [
    "print(\"All emotions:\")\n",
    "emotions = []\n",
    "for e in merged_df['emotion'].unique():\n",
    "    if e not in ['text', 'id']:\n",
    "        print(\"\\t\", e)\n",
    "        emotions.append(e)"
   ]
  },
  {
   "cell_type": "code",
   "execution_count": 54,
   "id": "44f141c5-7c50-44d1-a284-2e36d7f93811",
   "metadata": {},
   "outputs": [
    {
     "name": "stdout",
     "output_type": "stream",
     "text": [
      "Number of rows =  9887\n"
     ]
    }
   ],
   "source": [
    "print(\"Number of rows = \", merged_df.shape[0])"
   ]
  },
  {
   "cell_type": "code",
   "execution_count": 55,
   "id": "4f0072d4-43a7-434e-af58-bf549d589a26",
   "metadata": {},
   "outputs": [
    {
     "name": "stdout",
     "output_type": "stream",
     "text": [
      "Number of columns =  2\n"
     ]
    }
   ],
   "source": [
    "print(\"Number of columns = \", merged_df.shape[1])"
   ]
  },
  {
   "cell_type": "markdown",
   "id": "894264ef-c001-4e5c-b3f4-c2bc708a02b7",
   "metadata": {},
   "source": [
    "## Preprocessing"
   ]
  },
  {
   "cell_type": "code",
   "execution_count": 56,
   "id": "e3f1943e-de12-4c16-86b9-e8d8cecc76ab",
   "metadata": {},
   "outputs": [],
   "source": [
    "def cleanText(text):\n",
    "    text = text.lower()\n",
    "\n",
    "    # Remove links\n",
    "    text = re.sub(r\"http\\S*|\\S*\\.com\\S*|\\S*www\\S*\", \" \", text)\n",
    "\n",
    "    # Remove @mentions\n",
    "    text = re.sub(r\"\\s@\\S+\", \" \", text)\n",
    "\n",
    "    # Remove all punctuation\n",
    "    punctuation_table = str.maketrans(\"\", \"\", string.punctuation)\n",
    "    text = text.translate(punctuation_table)\n",
    "\n",
    "    # Replace multiple spaces with a single space\n",
    "    text = re.sub(r\"\\s+\", \" \", text)\n",
    "\n",
    "    # Tokenize\n",
    "    tokens = word_tokenize(text)\n",
    "\n",
    "    # Remove stopwords\n",
    "    stop_words = set(stopwords.words('english'))\n",
    "    tokens = [word for word in tokens if word not in stop_words]\n",
    "\n",
    "    # Lemmatization\n",
    "    lemmatizer = WordNetLemmatizer()\n",
    "    tokens = [lemmatizer.lemmatize(word) for word in tokens]\n",
    "\n",
    "    tokens = [token for token in tokens if len(token)>2]\n",
    "\n",
    "    return tokens"
   ]
  },
  {
   "cell_type": "code",
   "execution_count": 57,
   "id": "b12741bc-3526-42cb-81a5-771046e1c661",
   "metadata": {},
   "outputs": [
    {
     "name": "stderr",
     "output_type": "stream",
     "text": [
      "Processing text: 100%|██████████| 9887/9887 [00:03<00:00, 2983.78it/s]\n"
     ]
    }
   ],
   "source": [
    "tqdm.pandas(desc=\"Processing text\")\n",
    "dataframe = merged_df.copy()\n",
    "dataframe['preprocessed_text'] = dataframe['text'].progress_apply(cleanText)"
   ]
  },
  {
   "cell_type": "code",
   "execution_count": 58,
   "id": "0aced40d-392f-4930-8406-c447dbd254a2",
   "metadata": {},
   "outputs": [],
   "source": [
    "dataframe.rename(columns={'text': 'original_text'}, inplace=True)\n",
    "dataframe.rename(columns={'preprocessed_text': 'text_tokens'}, inplace=True)\n",
    "dataframe['preprocessed_text'] = dataframe['text_tokens'].apply(lambda x: ' '.join(x)).astype(str)"
   ]
  },
  {
   "cell_type": "code",
   "execution_count": 59,
   "id": "db4169a7-b7bd-4c57-89b2-3948f14ae1cb",
   "metadata": {},
   "outputs": [
    {
     "data": {
      "text/html": [
       "<div>\n",
       "<style scoped>\n",
       "    .dataframe tbody tr th:only-of-type {\n",
       "        vertical-align: middle;\n",
       "    }\n",
       "\n",
       "    .dataframe tbody tr th {\n",
       "        vertical-align: top;\n",
       "    }\n",
       "\n",
       "    .dataframe thead th {\n",
       "        text-align: right;\n",
       "    }\n",
       "</style>\n",
       "<table border=\"1\" class=\"dataframe\">\n",
       "  <thead>\n",
       "    <tr style=\"text-align: right;\">\n",
       "      <th></th>\n",
       "      <th>emotion</th>\n",
       "      <th>original_text</th>\n",
       "      <th>text_tokens</th>\n",
       "      <th>preprocessed_text</th>\n",
       "    </tr>\n",
       "  </thead>\n",
       "  <tbody>\n",
       "    <tr>\n",
       "      <th>0</th>\n",
       "      <td>happiness</td>\n",
       "      <td>During the period of falling in love, each tim...</td>\n",
       "      <td>[period, falling, love, time, met, especially,...</td>\n",
       "      <td>period falling love time met especially met lo...</td>\n",
       "    </tr>\n",
       "    <tr>\n",
       "      <th>1</th>\n",
       "      <td>fear</td>\n",
       "      <td>When I was involved in a traffic accident.</td>\n",
       "      <td>[involved, traffic, accident]</td>\n",
       "      <td>involved traffic accident</td>\n",
       "    </tr>\n",
       "    <tr>\n",
       "      <th>2</th>\n",
       "      <td>anger</td>\n",
       "      <td>When I was driving home after  several days of...</td>\n",
       "      <td>[driving, home, several, day, hard, work, moto...</td>\n",
       "      <td>driving home several day hard work motorist ah...</td>\n",
       "    </tr>\n",
       "    <tr>\n",
       "      <th>3</th>\n",
       "      <td>sadness</td>\n",
       "      <td>When I lost the person who meant the most to me.</td>\n",
       "      <td>[lost, person, meant]</td>\n",
       "      <td>lost person meant</td>\n",
       "    </tr>\n",
       "    <tr>\n",
       "      <th>4</th>\n",
       "      <td>disgust</td>\n",
       "      <td>The time I knocked a deer down - the sight of ...</td>\n",
       "      <td>[time, knocked, deer, sight, animal, injury, h...</td>\n",
       "      <td>time knocked deer sight animal injury helpless...</td>\n",
       "    </tr>\n",
       "    <tr>\n",
       "      <th>...</th>\n",
       "      <td>...</td>\n",
       "      <td>...</td>\n",
       "      <td>...</td>\n",
       "      <td>...</td>\n",
       "    </tr>\n",
       "    <tr>\n",
       "      <th>9882</th>\n",
       "      <td>shame</td>\n",
       "      <td>He gets real humiliated and has to leave .</td>\n",
       "      <td>[get, real, humiliated, leave]</td>\n",
       "      <td>get real humiliated leave</td>\n",
       "    </tr>\n",
       "    <tr>\n",
       "      <th>9883</th>\n",
       "      <td>shame</td>\n",
       "      <td>They aimed for higher status jobs and felt hum...</td>\n",
       "      <td>[aimed, higher, status, job, felt, humiliated,...</td>\n",
       "      <td>aimed higher status job felt humiliated unempl...</td>\n",
       "    </tr>\n",
       "    <tr>\n",
       "      <th>9884</th>\n",
       "      <td>shame</td>\n",
       "      <td>He cursed his lack of self-control ; he knew t...</td>\n",
       "      <td>[cursed, lack, selfcontrol, knew, old, biddy, ...</td>\n",
       "      <td>cursed lack selfcontrol knew old biddy seen fe...</td>\n",
       "    </tr>\n",
       "    <tr>\n",
       "      <th>9885</th>\n",
       "      <td>shame</td>\n",
       "      <td>Sometimes I've thought I 'll never forget wha...</td>\n",
       "      <td>[sometimes, ive, thought, never, forget, happe...</td>\n",
       "      <td>sometimes ive thought never forget happened co...</td>\n",
       "    </tr>\n",
       "    <tr>\n",
       "      <th>9886</th>\n",
       "      <td>shame</td>\n",
       "      <td>GRAHAM TAYLOR will defy the fury of a humiliat...</td>\n",
       "      <td>[graham, taylor, defy, fury, humiliated, natio...</td>\n",
       "      <td>graham taylor defy fury humiliated nation risk...</td>\n",
       "    </tr>\n",
       "  </tbody>\n",
       "</table>\n",
       "<p>9887 rows × 4 columns</p>\n",
       "</div>"
      ],
      "text/plain": [
       "        emotion                                      original_text  \\\n",
       "0     happiness  During the period of falling in love, each tim...   \n",
       "1          fear         When I was involved in a traffic accident.   \n",
       "2         anger  When I was driving home after  several days of...   \n",
       "3       sadness  When I lost the person who meant the most to me.    \n",
       "4       disgust  The time I knocked a deer down - the sight of ...   \n",
       "...         ...                                                ...   \n",
       "9882      shame        He gets real humiliated and has to leave .    \n",
       "9883      shame  They aimed for higher status jobs and felt hum...   \n",
       "9884      shame  He cursed his lack of self-control ; he knew t...   \n",
       "9885      shame   Sometimes I've thought I 'll never forget wha...   \n",
       "9886      shame  GRAHAM TAYLOR will defy the fury of a humiliat...   \n",
       "\n",
       "                                            text_tokens  \\\n",
       "0     [period, falling, love, time, met, especially,...   \n",
       "1                         [involved, traffic, accident]   \n",
       "2     [driving, home, several, day, hard, work, moto...   \n",
       "3                                 [lost, person, meant]   \n",
       "4     [time, knocked, deer, sight, animal, injury, h...   \n",
       "...                                                 ...   \n",
       "9882                     [get, real, humiliated, leave]   \n",
       "9883  [aimed, higher, status, job, felt, humiliated,...   \n",
       "9884  [cursed, lack, selfcontrol, knew, old, biddy, ...   \n",
       "9885  [sometimes, ive, thought, never, forget, happe...   \n",
       "9886  [graham, taylor, defy, fury, humiliated, natio...   \n",
       "\n",
       "                                      preprocessed_text  \n",
       "0     period falling love time met especially met lo...  \n",
       "1                             involved traffic accident  \n",
       "2     driving home several day hard work motorist ah...  \n",
       "3                                     lost person meant  \n",
       "4     time knocked deer sight animal injury helpless...  \n",
       "...                                                 ...  \n",
       "9882                          get real humiliated leave  \n",
       "9883  aimed higher status job felt humiliated unempl...  \n",
       "9884  cursed lack selfcontrol knew old biddy seen fe...  \n",
       "9885  sometimes ive thought never forget happened co...  \n",
       "9886  graham taylor defy fury humiliated nation risk...  \n",
       "\n",
       "[9887 rows x 4 columns]"
      ]
     },
     "execution_count": 59,
     "metadata": {},
     "output_type": "execute_result"
    }
   ],
   "source": [
    "dataframe"
   ]
  },
  {
   "cell_type": "code",
   "execution_count": 60,
   "id": "09398125-d09b-4bb9-8046-0dbf3ae0386e",
   "metadata": {},
   "outputs": [
    {
     "data": {
      "text/plain": [
       "emotion              0\n",
       "original_text        0\n",
       "text_tokens          0\n",
       "preprocessed_text    0\n",
       "dtype: int64"
      ]
     },
     "execution_count": 60,
     "metadata": {},
     "output_type": "execute_result"
    }
   ],
   "source": [
    "dataframe.isnull().sum()"
   ]
  },
  {
   "cell_type": "code",
   "execution_count": 62,
   "id": "1430d831-a3da-41f6-89e0-eea4057fa2c8",
   "metadata": {},
   "outputs": [],
   "source": [
    "# uklanjanje duplikata\n",
    "indexes = dataframe[dataframe['original_text'].duplicated() ==  True].index\n",
    "dataframe.drop(indexes, axis=0, inplace=True)"
   ]
  },
  {
   "cell_type": "code",
   "execution_count": 78,
   "id": "a7cc5f1c-3190-40ca-bbc2-42a9a8be20e4",
   "metadata": {},
   "outputs": [
    {
     "data": {
      "text/html": [
       "<div>\n",
       "<style scoped>\n",
       "    .dataframe tbody tr th:only-of-type {\n",
       "        vertical-align: middle;\n",
       "    }\n",
       "\n",
       "    .dataframe tbody tr th {\n",
       "        vertical-align: top;\n",
       "    }\n",
       "\n",
       "    .dataframe thead th {\n",
       "        text-align: right;\n",
       "    }\n",
       "</style>\n",
       "<table border=\"1\" class=\"dataframe\">\n",
       "  <thead>\n",
       "    <tr style=\"text-align: right;\">\n",
       "      <th></th>\n",
       "      <th>emotion</th>\n",
       "      <th>original_text</th>\n",
       "      <th>text_tokens</th>\n",
       "      <th>preprocessed_text</th>\n",
       "    </tr>\n",
       "  </thead>\n",
       "  <tbody>\n",
       "    <tr>\n",
       "      <th>0</th>\n",
       "      <td>happiness</td>\n",
       "      <td>During the period of falling in love, each tim...</td>\n",
       "      <td>[period, falling, love, time, met, especially,...</td>\n",
       "      <td>period falling love time met especially met lo...</td>\n",
       "    </tr>\n",
       "    <tr>\n",
       "      <th>1</th>\n",
       "      <td>fear</td>\n",
       "      <td>When I was involved in a traffic accident.</td>\n",
       "      <td>[involved, traffic, accident]</td>\n",
       "      <td>involved traffic accident</td>\n",
       "    </tr>\n",
       "    <tr>\n",
       "      <th>2</th>\n",
       "      <td>anger</td>\n",
       "      <td>When I was driving home after  several days of...</td>\n",
       "      <td>[driving, home, several, day, hard, work, moto...</td>\n",
       "      <td>driving home several day hard work motorist ah...</td>\n",
       "    </tr>\n",
       "    <tr>\n",
       "      <th>3</th>\n",
       "      <td>sadness</td>\n",
       "      <td>When I lost the person who meant the most to me.</td>\n",
       "      <td>[lost, person, meant]</td>\n",
       "      <td>lost person meant</td>\n",
       "    </tr>\n",
       "    <tr>\n",
       "      <th>4</th>\n",
       "      <td>disgust</td>\n",
       "      <td>The time I knocked a deer down - the sight of ...</td>\n",
       "      <td>[time, knocked, deer, sight, animal, injury, h...</td>\n",
       "      <td>time knocked deer sight animal injury helpless...</td>\n",
       "    </tr>\n",
       "    <tr>\n",
       "      <th>...</th>\n",
       "      <td>...</td>\n",
       "      <td>...</td>\n",
       "      <td>...</td>\n",
       "      <td>...</td>\n",
       "    </tr>\n",
       "    <tr>\n",
       "      <th>9882</th>\n",
       "      <td>shame</td>\n",
       "      <td>He gets real humiliated and has to leave .</td>\n",
       "      <td>[get, real, humiliated, leave]</td>\n",
       "      <td>get real humiliated leave</td>\n",
       "    </tr>\n",
       "    <tr>\n",
       "      <th>9883</th>\n",
       "      <td>shame</td>\n",
       "      <td>They aimed for higher status jobs and felt hum...</td>\n",
       "      <td>[aimed, higher, status, job, felt, humiliated,...</td>\n",
       "      <td>aimed higher status job felt humiliated unempl...</td>\n",
       "    </tr>\n",
       "    <tr>\n",
       "      <th>9884</th>\n",
       "      <td>shame</td>\n",
       "      <td>He cursed his lack of self-control ; he knew t...</td>\n",
       "      <td>[cursed, lack, selfcontrol, knew, old, biddy, ...</td>\n",
       "      <td>cursed lack selfcontrol knew old biddy seen fe...</td>\n",
       "    </tr>\n",
       "    <tr>\n",
       "      <th>9885</th>\n",
       "      <td>shame</td>\n",
       "      <td>Sometimes I've thought I 'll never forget wha...</td>\n",
       "      <td>[sometimes, ive, thought, never, forget, happe...</td>\n",
       "      <td>sometimes ive thought never forget happened co...</td>\n",
       "    </tr>\n",
       "    <tr>\n",
       "      <th>9886</th>\n",
       "      <td>shame</td>\n",
       "      <td>GRAHAM TAYLOR will defy the fury of a humiliat...</td>\n",
       "      <td>[graham, taylor, defy, fury, humiliated, natio...</td>\n",
       "      <td>graham taylor defy fury humiliated nation risk...</td>\n",
       "    </tr>\n",
       "  </tbody>\n",
       "</table>\n",
       "<p>9806 rows × 4 columns</p>\n",
       "</div>"
      ],
      "text/plain": [
       "        emotion                                      original_text  \\\n",
       "0     happiness  During the period of falling in love, each tim...   \n",
       "1          fear         When I was involved in a traffic accident.   \n",
       "2         anger  When I was driving home after  several days of...   \n",
       "3       sadness  When I lost the person who meant the most to me.    \n",
       "4       disgust  The time I knocked a deer down - the sight of ...   \n",
       "...         ...                                                ...   \n",
       "9882      shame        He gets real humiliated and has to leave .    \n",
       "9883      shame  They aimed for higher status jobs and felt hum...   \n",
       "9884      shame  He cursed his lack of self-control ; he knew t...   \n",
       "9885      shame   Sometimes I've thought I 'll never forget wha...   \n",
       "9886      shame  GRAHAM TAYLOR will defy the fury of a humiliat...   \n",
       "\n",
       "                                            text_tokens  \\\n",
       "0     [period, falling, love, time, met, especially,...   \n",
       "1                         [involved, traffic, accident]   \n",
       "2     [driving, home, several, day, hard, work, moto...   \n",
       "3                                 [lost, person, meant]   \n",
       "4     [time, knocked, deer, sight, animal, injury, h...   \n",
       "...                                                 ...   \n",
       "9882                     [get, real, humiliated, leave]   \n",
       "9883  [aimed, higher, status, job, felt, humiliated,...   \n",
       "9884  [cursed, lack, selfcontrol, knew, old, biddy, ...   \n",
       "9885  [sometimes, ive, thought, never, forget, happe...   \n",
       "9886  [graham, taylor, defy, fury, humiliated, natio...   \n",
       "\n",
       "                                      preprocessed_text  \n",
       "0     period falling love time met especially met lo...  \n",
       "1                             involved traffic accident  \n",
       "2     driving home several day hard work motorist ah...  \n",
       "3                                     lost person meant  \n",
       "4     time knocked deer sight animal injury helpless...  \n",
       "...                                                 ...  \n",
       "9882                          get real humiliated leave  \n",
       "9883  aimed higher status job felt humiliated unempl...  \n",
       "9884  cursed lack selfcontrol knew old biddy seen fe...  \n",
       "9885  sometimes ive thought never forget happened co...  \n",
       "9886  graham taylor defy fury humiliated nation risk...  \n",
       "\n",
       "[9806 rows x 4 columns]"
      ]
     },
     "execution_count": 78,
     "metadata": {},
     "output_type": "execute_result"
    }
   ],
   "source": [
    "duplicated_rows = dataframe.duplicated(subset=['original_text'], keep=False)\n",
    "\n",
    "# maska za one koji imaju isti 'original_text' ali razliciti 'emotion'\n",
    "mask = ~duplicated_rows | (duplicated_rows & dataframe.duplicated(subset=['original_text', 'emotion']))\n",
    "\n",
    "# Apply the mask to the DataFrame\n",
    "filtered_df = dataframe[mask]\n",
    "\n",
    "dataframe"
   ]
  },
  {
   "cell_type": "code",
   "execution_count": 64,
   "id": "1b5e0f76-60de-4693-8c28-311bfbb8946c",
   "metadata": {},
   "outputs": [],
   "source": [
    "dataframe = filtered_df"
   ]
  },
  {
   "cell_type": "code",
   "execution_count": 65,
   "id": "e3d7cc91-1d81-4151-8e47-78ae1578945b",
   "metadata": {},
   "outputs": [
    {
     "data": {
      "text/plain": [
       "(9806, 4)"
      ]
     },
     "execution_count": 65,
     "metadata": {},
     "output_type": "execute_result"
    }
   ],
   "source": [
    "dataframe.shape"
   ]
  },
  {
   "cell_type": "code",
   "execution_count": 66,
   "id": "50f22419-67a0-4591-9363-19742371ec7c",
   "metadata": {},
   "outputs": [
    {
     "name": "stdout",
     "output_type": "stream",
     "text": [
      "DataFrame saved to: full_dataset/full_dataset.csv\n"
     ]
    }
   ],
   "source": [
    "csv_path = 'full_dataset/full_dataset.csv'\n",
    "dataframe.to_csv(csv_path, index=False)\n",
    "print(f'DataFrame saved to: {csv_path}')"
   ]
  },
  {
   "cell_type": "markdown",
   "id": "5e151f74-b2fc-45d7-9916-0a6146b547a8",
   "metadata": {},
   "source": [
    "## EDA"
   ]
  },
  {
   "cell_type": "code",
   "execution_count": 67,
   "id": "d0652889-07b9-4e19-93e6-ed8b7968b21e",
   "metadata": {},
   "outputs": [],
   "source": [
    "csv_path = 'full_dataset/full_dataset.csv'"
   ]
  },
  {
   "cell_type": "code",
   "execution_count": 68,
   "id": "d309858c-d34f-417d-822d-2d79cdd511a0",
   "metadata": {},
   "outputs": [],
   "source": [
    "data = pd.read_csv(csv_path)"
   ]
  },
  {
   "cell_type": "code",
   "execution_count": 69,
   "id": "96ad1013-0c3b-4aee-a24d-3192ef86066b",
   "metadata": {},
   "outputs": [
    {
     "data": {
      "text/html": [
       "<div>\n",
       "<style scoped>\n",
       "    .dataframe tbody tr th:only-of-type {\n",
       "        vertical-align: middle;\n",
       "    }\n",
       "\n",
       "    .dataframe tbody tr th {\n",
       "        vertical-align: top;\n",
       "    }\n",
       "\n",
       "    .dataframe thead th {\n",
       "        text-align: right;\n",
       "    }\n",
       "</style>\n",
       "<table border=\"1\" class=\"dataframe\">\n",
       "  <thead>\n",
       "    <tr style=\"text-align: right;\">\n",
       "      <th></th>\n",
       "      <th>emotion</th>\n",
       "      <th>original_text</th>\n",
       "      <th>text_tokens</th>\n",
       "      <th>preprocessed_text</th>\n",
       "    </tr>\n",
       "  </thead>\n",
       "  <tbody>\n",
       "    <tr>\n",
       "      <th>0</th>\n",
       "      <td>happiness</td>\n",
       "      <td>During the period of falling in love, each tim...</td>\n",
       "      <td>['period', 'falling', 'love', 'time', 'met', '...</td>\n",
       "      <td>period falling love time met especially met lo...</td>\n",
       "    </tr>\n",
       "    <tr>\n",
       "      <th>1</th>\n",
       "      <td>fear</td>\n",
       "      <td>When I was involved in a traffic accident.</td>\n",
       "      <td>['involved', 'traffic', 'accident']</td>\n",
       "      <td>involved traffic accident</td>\n",
       "    </tr>\n",
       "    <tr>\n",
       "      <th>2</th>\n",
       "      <td>anger</td>\n",
       "      <td>When I was driving home after  several days of...</td>\n",
       "      <td>['driving', 'home', 'several', 'day', 'hard', ...</td>\n",
       "      <td>driving home several day hard work motorist ah...</td>\n",
       "    </tr>\n",
       "    <tr>\n",
       "      <th>3</th>\n",
       "      <td>sadness</td>\n",
       "      <td>When I lost the person who meant the most to me.</td>\n",
       "      <td>['lost', 'person', 'meant']</td>\n",
       "      <td>lost person meant</td>\n",
       "    </tr>\n",
       "    <tr>\n",
       "      <th>4</th>\n",
       "      <td>disgust</td>\n",
       "      <td>The time I knocked a deer down - the sight of ...</td>\n",
       "      <td>['time', 'knocked', 'deer', 'sight', 'animal',...</td>\n",
       "      <td>time knocked deer sight animal injury helpless...</td>\n",
       "    </tr>\n",
       "    <tr>\n",
       "      <th>...</th>\n",
       "      <td>...</td>\n",
       "      <td>...</td>\n",
       "      <td>...</td>\n",
       "      <td>...</td>\n",
       "    </tr>\n",
       "    <tr>\n",
       "      <th>9800</th>\n",
       "      <td>shame</td>\n",
       "      <td>` When Liz came back there was raucous laughte...</td>\n",
       "      <td>['liz', 'came', 'back', 'raucous', 'laughter',...</td>\n",
       "      <td>liz came back raucous laughter felt humiliated</td>\n",
       "    </tr>\n",
       "    <tr>\n",
       "      <th>9801</th>\n",
       "      <td>shame</td>\n",
       "      <td>He gets real humiliated and has to leave .</td>\n",
       "      <td>['get', 'real', 'humiliated', 'leave']</td>\n",
       "      <td>get real humiliated leave</td>\n",
       "    </tr>\n",
       "    <tr>\n",
       "      <th>9802</th>\n",
       "      <td>shame</td>\n",
       "      <td>They aimed for higher status jobs and felt hum...</td>\n",
       "      <td>['aimed', 'higher', 'status', 'job', 'felt', '...</td>\n",
       "      <td>aimed higher status job felt humiliated unempl...</td>\n",
       "    </tr>\n",
       "    <tr>\n",
       "      <th>9803</th>\n",
       "      <td>shame</td>\n",
       "      <td>He cursed his lack of self-control ; he knew t...</td>\n",
       "      <td>['cursed', 'lack', 'selfcontrol', 'knew', 'old...</td>\n",
       "      <td>cursed lack selfcontrol knew old biddy seen fe...</td>\n",
       "    </tr>\n",
       "    <tr>\n",
       "      <th>9804</th>\n",
       "      <td>shame</td>\n",
       "      <td>Sometimes I've thought I 'll never forget wha...</td>\n",
       "      <td>['sometimes', 'ive', 'thought', 'never', 'forg...</td>\n",
       "      <td>sometimes ive thought never forget happened co...</td>\n",
       "    </tr>\n",
       "  </tbody>\n",
       "</table>\n",
       "<p>9805 rows × 4 columns</p>\n",
       "</div>"
      ],
      "text/plain": [
       "        emotion                                      original_text  \\\n",
       "0     happiness  During the period of falling in love, each tim...   \n",
       "1          fear         When I was involved in a traffic accident.   \n",
       "2         anger  When I was driving home after  several days of...   \n",
       "3       sadness  When I lost the person who meant the most to me.    \n",
       "4       disgust  The time I knocked a deer down - the sight of ...   \n",
       "...         ...                                                ...   \n",
       "9800      shame  ` When Liz came back there was raucous laughte...   \n",
       "9801      shame        He gets real humiliated and has to leave .    \n",
       "9802      shame  They aimed for higher status jobs and felt hum...   \n",
       "9803      shame  He cursed his lack of self-control ; he knew t...   \n",
       "9804      shame   Sometimes I've thought I 'll never forget wha...   \n",
       "\n",
       "                                            text_tokens  \\\n",
       "0     ['period', 'falling', 'love', 'time', 'met', '...   \n",
       "1                   ['involved', 'traffic', 'accident']   \n",
       "2     ['driving', 'home', 'several', 'day', 'hard', ...   \n",
       "3                           ['lost', 'person', 'meant']   \n",
       "4     ['time', 'knocked', 'deer', 'sight', 'animal',...   \n",
       "...                                                 ...   \n",
       "9800  ['liz', 'came', 'back', 'raucous', 'laughter',...   \n",
       "9801             ['get', 'real', 'humiliated', 'leave']   \n",
       "9802  ['aimed', 'higher', 'status', 'job', 'felt', '...   \n",
       "9803  ['cursed', 'lack', 'selfcontrol', 'knew', 'old...   \n",
       "9804  ['sometimes', 'ive', 'thought', 'never', 'forg...   \n",
       "\n",
       "                                      preprocessed_text  \n",
       "0     period falling love time met especially met lo...  \n",
       "1                             involved traffic accident  \n",
       "2     driving home several day hard work motorist ah...  \n",
       "3                                     lost person meant  \n",
       "4     time knocked deer sight animal injury helpless...  \n",
       "...                                                 ...  \n",
       "9800     liz came back raucous laughter felt humiliated  \n",
       "9801                          get real humiliated leave  \n",
       "9802  aimed higher status job felt humiliated unempl...  \n",
       "9803  cursed lack selfcontrol knew old biddy seen fe...  \n",
       "9804  sometimes ive thought never forget happened co...  \n",
       "\n",
       "[9805 rows x 4 columns]"
      ]
     },
     "execution_count": 69,
     "metadata": {},
     "output_type": "execute_result"
    }
   ],
   "source": [
    "data.head(n=-1)"
   ]
  },
  {
   "cell_type": "code",
   "execution_count": 70,
   "id": "7e806919-fee9-4e2f-9563-db76a38b4701",
   "metadata": {},
   "outputs": [
    {
     "name": "stdout",
     "output_type": "stream",
     "text": [
      "<class 'pandas.core.frame.DataFrame'>\n",
      "RangeIndex: 9806 entries, 0 to 9805\n",
      "Data columns (total 4 columns):\n",
      " #   Column             Non-Null Count  Dtype \n",
      "---  ------             --------------  ----- \n",
      " 0   emotion            9806 non-null   object\n",
      " 1   original_text      9806 non-null   object\n",
      " 2   text_tokens        9806 non-null   object\n",
      " 3   preprocessed_text  9806 non-null   object\n",
      "dtypes: object(4)\n",
      "memory usage: 306.6+ KB\n"
     ]
    }
   ],
   "source": [
    "data.info()"
   ]
  },
  {
   "cell_type": "code",
   "execution_count": 71,
   "id": "de58d672-c86e-4132-8634-d588676c0394",
   "metadata": {},
   "outputs": [],
   "source": [
    "data = data.dropna(subset=['preprocessed_text'])"
   ]
  },
  {
   "cell_type": "code",
   "execution_count": 72,
   "id": "0e3b30e6-1500-485c-9f72-d00d1c6dec43",
   "metadata": {},
   "outputs": [
    {
     "name": "stdout",
     "output_type": "stream",
     "text": [
      "<class 'pandas.core.frame.DataFrame'>\n",
      "RangeIndex: 9806 entries, 0 to 9805\n",
      "Data columns (total 4 columns):\n",
      " #   Column             Non-Null Count  Dtype \n",
      "---  ------             --------------  ----- \n",
      " 0   emotion            9806 non-null   object\n",
      " 1   original_text      9806 non-null   object\n",
      " 2   text_tokens        9806 non-null   object\n",
      " 3   preprocessed_text  9806 non-null   object\n",
      "dtypes: object(4)\n",
      "memory usage: 306.6+ KB\n"
     ]
    }
   ],
   "source": [
    "data.info()"
   ]
  },
  {
   "cell_type": "code",
   "execution_count": 73,
   "id": "5051433d-7a9f-44c2-a1eb-96357e3f8df3",
   "metadata": {},
   "outputs": [
    {
     "name": "stdout",
     "output_type": "stream",
     "text": [
      "DataFrame saved to: full_dataset/full_dataset.csv\n"
     ]
    }
   ],
   "source": [
    "data.to_csv(csv_path, index=False)\n",
    "print(f'DataFrame saved to: {csv_path}')"
   ]
  },
  {
   "cell_type": "code",
   "execution_count": 74,
   "id": "b4b4d86c-2134-4e21-8204-1993367c46c8",
   "metadata": {},
   "outputs": [
    {
     "data": {
      "image/png": "[encoded data removed]",
      "text/plain": [
       "<Figure size 1000x500 with 1 Axes>"
      ]
     },
     "metadata": {},
     "output_type": "display_data"
    }
   ],
   "source": [
    "plt.figure(figsize=(10, 5))\n",
    "\n",
    "emotion_counts = data['emotion'].value_counts()\n",
    "\n",
    "ax = emotion_counts.plot(kind='bar', color='skyblue', edgecolor='black')\n",
    "for p in ax.patches:\n",
    "    ax.annotate(str(p.get_height()), (p.get_x() + p.get_width() / 2., p.get_height()+12), ha='center', va='baseline')\n",
    "\n",
    "plt.ylim(0, max(emotion_counts) + 100)\n",
    "plt.xlabel('Emotions')\n",
    "plt.ylabel('Count')\n",
    "\n",
    "plt.show()"
   ]
  },
  {
   "cell_type": "code",
   "execution_count": 75,
   "id": "a24ef833-a5af-4306-8191-f92245ffe96b",
   "metadata": {},
   "outputs": [
    {
     "data": {
      "image/png": "[encoded data removed]",
      "text/plain": [
       "<Figure size 640x480 with 1 Axes>"
      ]
     },
     "metadata": {},
     "output_type": "display_data"
    }
   ],
   "source": [
    "text_length = data['text_tokens'].apply(len)\n",
    "\n",
    "plt.hist(text_length, bins=100, color='blue', alpha=0.7)\n",
    "plt.xlim(0, 300)\n",
    "plt.xlabel('Word Count')\n",
    "plt.ylabel('Count')\n",
    "plt.title('Histogram of Text Lengths')\n",
    "plt.show()"
   ]
  },
  {
   "cell_type": "code",
   "execution_count": 76,
   "id": "c82c5924-a434-4b58-b0b3-a615826f121f",
   "metadata": {},
   "outputs": [
    {
     "name": "stdout",
     "output_type": "stream",
     "text": [
      "<class 'pandas.core.frame.DataFrame'>\n",
      "RangeIndex: 9806 entries, 0 to 9805\n",
      "Data columns (total 4 columns):\n",
      " #   Column             Non-Null Count  Dtype \n",
      "---  ------             --------------  ----- \n",
      " 0   emotion            9806 non-null   object\n",
      " 1   original_text      9806 non-null   object\n",
      " 2   text_tokens        9806 non-null   object\n",
      " 3   preprocessed_text  9806 non-null   object\n",
      "dtypes: object(4)\n",
      "memory usage: 306.6+ KB\n"
     ]
    }
   ],
   "source": [
    "data.info()"
   ]
  },
  {
   "cell_type": "code",
   "execution_count": null,
   "id": "2d255551-0b5e-4252-a99f-dd89d5a4c5d3",
   "metadata": {},
   "outputs": [],
   "source": []
  }
 ],
 "metadata": {
  "kernelspec": {
   "display_name": "Python 3 (ipykernel)",
   "language": "python",
   "name": "python3"
  },
  "language_info": {
   "codemirror_mode": {
    "name": "ipython",
    "version": 3
   },
   "file_extension": ".py",
   "mimetype": "text/x-python",
   "name": "python",
   "nbconvert_exporter": "python",
   "pygments_lexer": "ipython3",
   "version": "3.11.5"
  }
 },
 "nbformat": 4,
 "nbformat_minor": 5
}
