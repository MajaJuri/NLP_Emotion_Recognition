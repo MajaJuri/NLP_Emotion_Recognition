{
 "cells": [
  {
   "cell_type": "markdown",
   "id": "544a2369-386d-47ee-856f-85a9040e5081",
   "metadata": {},
   "source": [
    "# BERT i RoBERTa"
   ]
  },
  {
   "cell_type": "code",
   "execution_count": 1,
   "id": "5fba8af2-91b7-4893-8948-555d5eee214c",
   "metadata": {
    "ExecuteTime": {
     "start_time": "2024-01-11T10:56:51.136771100Z"
    }
   },
   "outputs": [],
   "source": [
    "import pandas as pd\n",
    "import numpy as np\n",
    "\n",
    "import ktrain\n",
    "from ktrain import text\n",
    "\n",
    "from sklearn.model_selection import train_test_split, StratifiedShuffleSplit\n",
    "from sklearn.feature_extraction.text import CountVectorizer, TfidfVectorizer\n",
    "from sklearn.metrics import accuracy_score, f1_score, confusion_matrix, multilabel_confusion_matrix, classification_report\n",
    "from sklearn.preprocessing import OneHotEncoder\n",
    "from transformers import RobertaModel, RobertaTokenizerFast\n",
    "from torch.utils.data import DataLoader, Dataset\n",
    "import torch\n",
    "import torch.nn as nn\n",
    "import torch.nn.functional as F\n",
    "from torch.nn.utils.rnn import pad_sequence\n",
    "from transformers import RobertaModel, RobertaTokenizerFast\n",
    "from sklearn.preprocessing import LabelEncoder\n",
    "import matplotlib.pyplot as plt\n",
    "from tqdm import tqdm\n",
    "import time\n",
    "import pickle\n",
    "\n",
    "import warnings\n",
    "warnings.filterwarnings('ignore')"
   ]
  },
  {
   "cell_type": "code",
   "execution_count": 51,
   "id": "75b2f66c",
   "metadata": {},
   "outputs": [],
   "source": [
    "def plot_confusion_matrix_using_cm(cm, classes,\n",
    "                          normalize=False,\n",
    "                          title=None,\n",
    "                          cmap=plt.cm.Blues):\n",
    "    '''\n",
    "    This function prints and plots the confusion matrix.\n",
    "    Normalization can be applied by setting `normalize=True`.\n",
    "    '''\n",
    "    if not title:\n",
    "        if normalize:\n",
    "            title = 'Normalized confusion matrix'\n",
    "        else:\n",
    "            title = 'Confusion matrix, without normalization'\n",
    "\n",
    "    if normalize:\n",
    "        cm = cm.astype('float') / cm.sum(axis=1)[:, np.newaxis]\n",
    "\n",
    "    fig, ax = plt.subplots()\n",
    "    \n",
    "    # Set size\n",
    "    fig.set_size_inches(12.5, 7.5)\n",
    "    im = ax.imshow(cm, interpolation='nearest', cmap=cmap)\n",
    "    ax.figure.colorbar(im, ax=ax)\n",
    "    ax.grid(False)\n",
    "    \n",
    "    # We want to show all ticks...\n",
    "    ax.set(xticks=np.arange(cm.shape[1]),\n",
    "           yticks=np.arange(cm.shape[0]),\n",
    "           # ... and label them with the respective list entries\n",
    "           xticklabels=classes, yticklabels=classes,\n",
    "           title=title,\n",
    "           ylabel='True label',\n",
    "           xlabel='Predicted label')\n",
    "\n",
    "    # Rotate the tick labels and set their alignment.\n",
    "    plt.setp(ax.get_xticklabels(), rotation=45, ha=\"right\",\n",
    "             rotation_mode=\"anchor\")\n",
    "\n",
    "    # Loop over data dimensions and create text annotations.\n",
    "    fmt = '.2f' if normalize else 'd'\n",
    "    thresh = cm.max() / 2.\n",
    "    for i in range(cm.shape[0]):\n",
    "        for j in range(cm.shape[1]):\n",
    "            ax.text(j, i, format(cm[i, j], fmt),\n",
    "                    ha=\"center\", va=\"center\",\n",
    "                    color=\"white\" if cm[i, j] > thresh else \"black\")\n",
    "    fig.tight_layout()\n",
    "    return ax"
   ]
  },
  {
   "cell_type": "code",
   "execution_count": 109,
   "id": "83b90ced-a0f9-411a-8131-1e0b33a2bbcd",
   "metadata": {
    "ExecuteTime": {
     "start_time": "2024-01-11T10:56:51.140404Z"
    }
   },
   "outputs": [],
   "source": [
    "def plot_confusion_matrix(y_true, y_pred, classes,\n",
    "                          normalize=False,\n",
    "                          title=None,\n",
    "                          cmap=plt.cm.Blues):\n",
    "    '''\n",
    "    This function prints and plots the confusion matrix.\n",
    "    Normalization can be applied by setting `normalize=True`.\n",
    "    '''\n",
    "    if not title:\n",
    "        if normalize:\n",
    "            title = 'Normalized confusion matrix'\n",
    "        else:\n",
    "            title = 'Confusion matrix, without normalization'\n",
    "\n",
    "    # Compute confusion matrix\n",
    "    cm = confusion_matrix(y_true, y_pred)\n",
    "\n",
    "    if normalize:\n",
    "        cm = cm.astype('float') / cm.sum(axis=1)[:, np.newaxis]\n",
    "\n",
    "    fig, ax = plt.subplots()\n",
    "    \n",
    "    # Set size\n",
    "    fig.set_size_inches(12.5, 7.5)\n",
    "    im = ax.imshow(cm, interpolation='nearest', cmap=cmap)\n",
    "    ax.figure.colorbar(im, ax=ax)\n",
    "    ax.grid(False)\n",
    "    \n",
    "    # We want to show all ticks...\n",
    "    ax.set(xticks=np.arange(cm.shape[1]),\n",
    "           yticks=np.arange(cm.shape[0]),\n",
    "           # ... and label them with the respective list entries\n",
    "           xticklabels=classes, yticklabels=classes,\n",
    "           title=title,\n",
    "           ylabel='True label',\n",
    "           xlabel='Predicted label')\n",
    "\n",
    "    # Rotate the tick labels and set their alignment.\n",
    "    plt.setp(ax.get_xticklabels(), rotation=45, ha=\"right\",\n",
    "             rotation_mode=\"anchor\")\n",
    "\n",
    "    # Loop over data dimensions and create text annotations.\n",
    "    fmt = '.2f' if normalize else 'd'\n",
    "    thresh = cm.max() / 2.\n",
    "    for i in range(cm.shape[0]):\n",
    "        for j in range(cm.shape[1]):\n",
    "            ax.text(j, i, format(cm[i, j], fmt),\n",
    "                    ha=\"center\", va=\"center\",\n",
    "                    color=\"white\" if cm[i, j] > thresh else \"black\")\n",
    "    fig.tight_layout()\n",
    "    return ax"
   ]
  },
  {
   "cell_type": "markdown",
   "id": "c80bf042-ac69-47fb-b466-fae0298a7874",
   "metadata": {},
   "source": [
    "## Učitavanje podataka"
   ]
  },
  {
   "cell_type": "code",
   "execution_count": 3,
   "id": "ba3496b1-3db8-4b48-964f-85b18259e56b",
   "metadata": {
    "ExecuteTime": {
     "end_time": "2024-01-11T10:57:23.498098Z",
     "start_time": "2024-01-11T10:57:23.364608600Z"
    }
   },
   "outputs": [
    {
     "data": {
      "text/html": [
       "<div>\n",
       "<style scoped>\n",
       "    .dataframe tbody tr th:only-of-type {\n",
       "        vertical-align: middle;\n",
       "    }\n",
       "\n",
       "    .dataframe tbody tr th {\n",
       "        vertical-align: top;\n",
       "    }\n",
       "\n",
       "    .dataframe thead th {\n",
       "        text-align: right;\n",
       "    }\n",
       "</style>\n",
       "<table border=\"1\" class=\"dataframe\">\n",
       "  <thead>\n",
       "    <tr style=\"text-align: right;\">\n",
       "      <th></th>\n",
       "      <th>emotion</th>\n",
       "      <th>original_text</th>\n",
       "      <th>text_tokens</th>\n",
       "      <th>preprocessed_text</th>\n",
       "    </tr>\n",
       "  </thead>\n",
       "  <tbody>\n",
       "    <tr>\n",
       "      <th>0</th>\n",
       "      <td>happiness</td>\n",
       "      <td>During the period of falling in love, each tim...</td>\n",
       "      <td>['period', 'falling', 'love', 'time', 'met', '...</td>\n",
       "      <td>period falling love time met especially met lo...</td>\n",
       "    </tr>\n",
       "    <tr>\n",
       "      <th>1</th>\n",
       "      <td>fear</td>\n",
       "      <td>When I was involved in a traffic accident.</td>\n",
       "      <td>['involved', 'traffic', 'accident']</td>\n",
       "      <td>involved traffic accident</td>\n",
       "    </tr>\n",
       "    <tr>\n",
       "      <th>2</th>\n",
       "      <td>anger</td>\n",
       "      <td>When I was driving home after  several days of...</td>\n",
       "      <td>['driving', 'home', 'several', 'day', 'hard', ...</td>\n",
       "      <td>driving home several day hard work motorist ah...</td>\n",
       "    </tr>\n",
       "    <tr>\n",
       "      <th>3</th>\n",
       "      <td>sadness</td>\n",
       "      <td>When I lost the person who meant the most to me.</td>\n",
       "      <td>['lost', 'person', 'meant']</td>\n",
       "      <td>lost person meant</td>\n",
       "    </tr>\n",
       "    <tr>\n",
       "      <th>4</th>\n",
       "      <td>disgust</td>\n",
       "      <td>The time I knocked a deer down - the sight of ...</td>\n",
       "      <td>['time', 'knocked', 'deer', 'sight', 'animal',...</td>\n",
       "      <td>time knocked deer sight animal injury helpless...</td>\n",
       "    </tr>\n",
       "    <tr>\n",
       "      <th>...</th>\n",
       "      <td>...</td>\n",
       "      <td>...</td>\n",
       "      <td>...</td>\n",
       "      <td>...</td>\n",
       "    </tr>\n",
       "    <tr>\n",
       "      <th>9801</th>\n",
       "      <td>shame</td>\n",
       "      <td>He gets real humiliated and has to leave .</td>\n",
       "      <td>['get', 'real', 'humiliated', 'leave']</td>\n",
       "      <td>get real humiliated leave</td>\n",
       "    </tr>\n",
       "    <tr>\n",
       "      <th>9802</th>\n",
       "      <td>shame</td>\n",
       "      <td>They aimed for higher status jobs and felt hum...</td>\n",
       "      <td>['aimed', 'higher', 'status', 'job', 'felt', '...</td>\n",
       "      <td>aimed higher status job felt humiliated unempl...</td>\n",
       "    </tr>\n",
       "    <tr>\n",
       "      <th>9803</th>\n",
       "      <td>shame</td>\n",
       "      <td>He cursed his lack of self-control ; he knew t...</td>\n",
       "      <td>['cursed', 'lack', 'selfcontrol', 'knew', 'old...</td>\n",
       "      <td>cursed lack selfcontrol knew old biddy seen fe...</td>\n",
       "    </tr>\n",
       "    <tr>\n",
       "      <th>9804</th>\n",
       "      <td>shame</td>\n",
       "      <td>Sometimes I've thought I 'll never forget wha...</td>\n",
       "      <td>['sometimes', 'ive', 'thought', 'never', 'forg...</td>\n",
       "      <td>sometimes ive thought never forget happened co...</td>\n",
       "    </tr>\n",
       "    <tr>\n",
       "      <th>9805</th>\n",
       "      <td>shame</td>\n",
       "      <td>GRAHAM TAYLOR will defy the fury of a humiliat...</td>\n",
       "      <td>['graham', 'taylor', 'defy', 'fury', 'humiliat...</td>\n",
       "      <td>graham taylor defy fury humiliated nation risk...</td>\n",
       "    </tr>\n",
       "  </tbody>\n",
       "</table>\n",
       "<p>9806 rows × 4 columns</p>\n",
       "</div>"
      ],
      "text/plain": [
       "        emotion                                      original_text  \\\n",
       "0     happiness  During the period of falling in love, each tim...   \n",
       "1          fear         When I was involved in a traffic accident.   \n",
       "2         anger  When I was driving home after  several days of...   \n",
       "3       sadness  When I lost the person who meant the most to me.    \n",
       "4       disgust  The time I knocked a deer down - the sight of ...   \n",
       "...         ...                                                ...   \n",
       "9801      shame        He gets real humiliated and has to leave .    \n",
       "9802      shame  They aimed for higher status jobs and felt hum...   \n",
       "9803      shame  He cursed his lack of self-control ; he knew t...   \n",
       "9804      shame   Sometimes I've thought I 'll never forget wha...   \n",
       "9805      shame  GRAHAM TAYLOR will defy the fury of a humiliat...   \n",
       "\n",
       "                                            text_tokens  \\\n",
       "0     ['period', 'falling', 'love', 'time', 'met', '...   \n",
       "1                   ['involved', 'traffic', 'accident']   \n",
       "2     ['driving', 'home', 'several', 'day', 'hard', ...   \n",
       "3                           ['lost', 'person', 'meant']   \n",
       "4     ['time', 'knocked', 'deer', 'sight', 'animal',...   \n",
       "...                                                 ...   \n",
       "9801             ['get', 'real', 'humiliated', 'leave']   \n",
       "9802  ['aimed', 'higher', 'status', 'job', 'felt', '...   \n",
       "9803  ['cursed', 'lack', 'selfcontrol', 'knew', 'old...   \n",
       "9804  ['sometimes', 'ive', 'thought', 'never', 'forg...   \n",
       "9805  ['graham', 'taylor', 'defy', 'fury', 'humiliat...   \n",
       "\n",
       "                                      preprocessed_text  \n",
       "0     period falling love time met especially met lo...  \n",
       "1                             involved traffic accident  \n",
       "2     driving home several day hard work motorist ah...  \n",
       "3                                     lost person meant  \n",
       "4     time knocked deer sight animal injury helpless...  \n",
       "...                                                 ...  \n",
       "9801                          get real humiliated leave  \n",
       "9802  aimed higher status job felt humiliated unempl...  \n",
       "9803  cursed lack selfcontrol knew old biddy seen fe...  \n",
       "9804  sometimes ive thought never forget happened co...  \n",
       "9805  graham taylor defy fury humiliated nation risk...  \n",
       "\n",
       "[9806 rows x 4 columns]"
      ]
     },
     "execution_count": 3,
     "metadata": {},
     "output_type": "execute_result"
    }
   ],
   "source": [
    "dataset_path = 'full_dataset/full_dataset.csv'\n",
    "data = pd.read_csv(dataset_path)\n",
    "data"
   ]
  },
  {
   "cell_type": "code",
   "execution_count": 4,
   "id": "d3aba341-4b08-4e61-bf77-22a9aff2df1a",
   "metadata": {
    "ExecuteTime": {
     "end_time": "2024-01-11T10:57:24.959353500Z",
     "start_time": "2024-01-11T10:57:24.851926Z"
    }
   },
   "outputs": [
    {
     "data": {
      "text/plain": [
       "array(['happiness', 'fear', 'anger', 'sadness', 'disgust', 'shame',\n",
       "       'guilt', 'surprise'], dtype=object)"
      ]
     },
     "execution_count": 4,
     "metadata": {},
     "output_type": "execute_result"
    }
   ],
   "source": [
    "class_names = data['emotion'].unique()\n",
    "class_names"
   ]
  },
  {
   "cell_type": "code",
   "execution_count": 5,
   "id": "c3b68db8-e0c5-4036-a679-2cb7e113bbe7",
   "metadata": {
    "ExecuteTime": {
     "end_time": "2024-01-11T10:57:26.098773900Z",
     "start_time": "2024-01-11T10:57:25.905023900Z"
    }
   },
   "outputs": [
    {
     "data": {
      "text/plain": [
       "8"
      ]
     },
     "execution_count": 5,
     "metadata": {},
     "output_type": "execute_result"
    }
   ],
   "source": [
    "num_classes = len(class_names)\n",
    "num_classes"
   ]
  },
  {
   "cell_type": "markdown",
   "id": "d82daa88-5885-4b92-8400-1509333b1e73",
   "metadata": {},
   "source": [
    "## Priprema podataka"
   ]
  },
  {
   "cell_type": "code",
   "execution_count": 6,
   "id": "ea571a54",
   "metadata": {},
   "outputs": [],
   "source": [
    "split = StratifiedShuffleSplit(n_splits=1, test_size=0.4, random_state=42)\n",
    "\n",
    "for train_index, test_valid_index in split.split(data, data['emotion']):\n",
    "    train_set = data.iloc[train_index]\n",
    "    test_valid_set = data.iloc[test_valid_index]\n",
    "\n",
    "split2 = StratifiedShuffleSplit(n_splits=1, test_size=0.5, random_state=42)\n",
    "for test_index, valid_index in split2.split(test_valid_set, test_valid_set['emotion']):\n",
    "    test_set = test_valid_set.iloc[test_index]\n",
    "    valid_set = test_valid_set.iloc[valid_index]"
   ]
  },
  {
   "cell_type": "code",
   "execution_count": 32,
   "id": "d8d43a50",
   "metadata": {},
   "outputs": [],
   "source": [
    "X_train = train_set['preprocessed_text']\n",
    "y_train = train_set['emotion']\n",
    "\n",
    "X_valid = valid_set['preprocessed_text']\n",
    "y_valid = valid_set['emotion']\n",
    "\n",
    "X_test = test_set['preprocessed_text']\n",
    "y_test = test_set['emotion']"
   ]
  },
  {
   "cell_type": "code",
   "execution_count": 8,
   "id": "f9c26e94",
   "metadata": {},
   "outputs": [
    {
     "data": {
      "text/plain": [
       "((5883,), (1962,), (1961,))"
      ]
     },
     "execution_count": 8,
     "metadata": {},
     "output_type": "execute_result"
    }
   ],
   "source": [
    "X_train.shape, X_valid.shape, X_test.shape"
   ]
  },
  {
   "cell_type": "code",
   "execution_count": 33,
   "id": "ce2d9d8b-4bb7-4cc0-aaf7-ea1b477a8817",
   "metadata": {
    "ExecuteTime": {
     "end_time": "2024-01-11T10:57:28.061783Z",
     "start_time": "2024-01-11T10:57:27.967738Z"
    }
   },
   "outputs": [],
   "source": [
    "encoding = {\n",
    "    'happiness': 0,\n",
    "    'fear': 1,\n",
    "    'anger': 2,\n",
    "    'sadness': 3,\n",
    "    'disgust': 4,\n",
    "    'shame': 5,\n",
    "    'guilt': 6,\n",
    "    'surprise': 7\n",
    "}\n",
    "\n",
    "y_train = [encoding[x] for x in y_train]\n",
    "y_valid = [encoding[x] for x in y_valid]\n",
    "y_test = [encoding[x] for x in y_test]"
   ]
  },
  {
   "cell_type": "markdown",
   "id": "821417f6-37f8-4c21-94e0-5a3021e26bb7",
   "metadata": {},
   "source": [
    "Podaci se moraju posebno predprocesuirati da bi se mogli koristiti u BERT-u."
   ]
  },
  {
   "cell_type": "code",
   "execution_count": 34,
   "id": "083d0cc2-dabe-407e-821d-e16be7ddac3f",
   "metadata": {
    "ExecuteTime": {
     "end_time": "2024-01-11T10:57:29.246882600Z",
     "start_time": "2024-01-11T10:57:29.191202800Z"
    }
   },
   "outputs": [],
   "source": [
    "x_train = X_train.tolist()\n",
    "x_valid = X_valid.tolist()\n",
    "x_test = X_test.tolist()"
   ]
  },
  {
   "cell_type": "code",
   "execution_count": 35,
   "id": "5a05995d-0101-449c-9367-f910a7b66334",
   "metadata": {
    "ExecuteTime": {
     "end_time": "2024-01-11T10:57:36.988077700Z",
     "start_time": "2024-01-11T10:57:29.939973200Z"
    }
   },
   "outputs": [
    {
     "name": "stdout",
     "output_type": "stream",
     "text": [
      "preprocessing train...\n",
      "language: en\n"
     ]
    },
    {
     "data": {
      "text/html": [
       "\n",
       "<style>\n",
       "    /* Turns off some styling */\n",
       "    progress {\n",
       "        /* gets rid of default border in Firefox and Opera. */\n",
       "        border: none;\n",
       "        /* Needs to be in here for Safari polyfill so background images work as expected. */\n",
       "        background-size: auto;\n",
       "    }\n",
       "    progress:not([value]), progress:not([value])::-webkit-progress-bar {\n",
       "        background: repeating-linear-gradient(45deg, #7e7e7e, #7e7e7e 10px, #5c5c5c 10px, #5c5c5c 20px);\n",
       "    }\n",
       "    .progress-bar-interrupted, .progress-bar-interrupted::-webkit-progress-bar {\n",
       "        background: #F44336;\n",
       "    }\n",
       "</style>\n"
      ],
      "text/plain": [
       "<IPython.core.display.HTML object>"
      ]
     },
     "metadata": {},
     "output_type": "display_data"
    },
    {
     "data": {
      "text/html": [
       "done."
      ],
      "text/plain": [
       "<IPython.core.display.HTML object>"
      ]
     },
     "metadata": {},
     "output_type": "display_data"
    },
    {
     "name": "stdout",
     "output_type": "stream",
     "text": [
      "Is Multi-Label? False\n",
      "preprocessing test...\n",
      "language: en\n"
     ]
    },
    {
     "data": {
      "text/html": [
       "\n",
       "<style>\n",
       "    /* Turns off some styling */\n",
       "    progress {\n",
       "        /* gets rid of default border in Firefox and Opera. */\n",
       "        border: none;\n",
       "        /* Needs to be in here for Safari polyfill so background images work as expected. */\n",
       "        background-size: auto;\n",
       "    }\n",
       "    progress:not([value]), progress:not([value])::-webkit-progress-bar {\n",
       "        background: repeating-linear-gradient(45deg, #7e7e7e, #7e7e7e 10px, #5c5c5c 10px, #5c5c5c 20px);\n",
       "    }\n",
       "    .progress-bar-interrupted, .progress-bar-interrupted::-webkit-progress-bar {\n",
       "        background: #F44336;\n",
       "    }\n",
       "</style>\n"
      ],
      "text/plain": [
       "<IPython.core.display.HTML object>"
      ]
     },
     "metadata": {},
     "output_type": "display_data"
    },
    {
     "data": {
      "text/html": [
       "done."
      ],
      "text/plain": [
       "<IPython.core.display.HTML object>"
      ]
     },
     "metadata": {},
     "output_type": "display_data"
    },
    {
     "name": "stdout",
     "output_type": "stream",
     "text": [
      "task: text classification\n"
     ]
    }
   ],
   "source": [
    "(x_train, y_train), (x_valid, y_valid), preproc = text.texts_from_array(x_train=x_train, y_train=y_train,\n",
    "                                                                    x_test=x_valid, y_test=y_valid,\n",
    "                                                                    class_names=class_names,\n",
    "                                                                    preprocess_mode='bert',\n",
    "                                                                    maxlen=350,\n",
    "                                                                    max_features=35000)"
   ]
  },
  {
   "cell_type": "markdown",
   "id": "b7c89b68-fe80-4fbb-8609-52fc9979c1a6",
   "metadata": {},
   "source": [
    "# BERT"
   ]
  },
  {
   "cell_type": "markdown",
   "id": "0d57ec31-ce40-4b05-b8dc-e447eb823e87",
   "metadata": {},
   "source": [
    "## Treniranje"
   ]
  },
  {
   "cell_type": "code",
   "execution_count": 12,
   "id": "e3d199d5-bf28-47e5-aa55-34f469c9bfa6",
   "metadata": {
    "ExecuteTime": {
     "end_time": "2024-01-11T10:57:55.544321100Z",
     "start_time": "2024-01-11T10:57:36.988077700Z"
    }
   },
   "outputs": [
    {
     "name": "stdout",
     "output_type": "stream",
     "text": [
      "Is Multi-Label? False\n",
      "maxlen is 350\n",
      "done.\n"
     ]
    }
   ],
   "source": [
    "model = text.text_classifier('bert', train_data=(x_train, y_train), preproc=preproc)"
   ]
  },
  {
   "cell_type": "code",
   "execution_count": 13,
   "id": "058fd75c-f174-4013-83a3-1a6b982dfa43",
   "metadata": {
    "ExecuteTime": {
     "end_time": "2024-01-11T10:57:57.379065900Z",
     "start_time": "2024-01-11T10:57:55.550976400Z"
    }
   },
   "outputs": [],
   "source": [
    "learner = ktrain.get_learner(model, train_data=(x_train, y_train), \n",
    "                             val_data=(x_valid, y_valid),\n",
    "                             batch_size=6)"
   ]
  },
  {
   "cell_type": "code",
   "execution_count": 14,
   "id": "195c6d74-6e47-43e2-94eb-108aefd9ca25",
   "metadata": {
    "is_executing": true
   },
   "outputs": [
    {
     "name": "stdout",
     "output_type": "stream",
     "text": [
      "\n",
      "\n",
      "begin training using onecycle policy with max lr of 2e-05...\n",
      "Epoch 1/10\n"
     ]
    },
    {
     "name": "stdout",
     "output_type": "stream",
     "text": [
      "981/981 [==============================] - 157s 145ms/step - loss: 1.7086 - accuracy: 0.3768 - val_loss: 1.1091 - val_accuracy: 0.6264\n",
      "Epoch 2/10\n",
      "981/981 [==============================] - 141s 144ms/step - loss: 0.9660 - accuracy: 0.6733 - val_loss: 0.9182 - val_accuracy: 0.6891\n",
      "Epoch 3/10\n",
      "981/981 [==============================] - 142s 145ms/step - loss: 0.7017 - accuracy: 0.7642 - val_loss: 0.9430 - val_accuracy: 0.7074\n",
      "Epoch 4/10\n",
      "981/981 [==============================] - 142s 145ms/step - loss: 0.4837 - accuracy: 0.8402 - val_loss: 0.9518 - val_accuracy: 0.7013\n",
      "Epoch 5/10\n",
      "981/981 [==============================] - 143s 145ms/step - loss: 0.3142 - accuracy: 0.9012 - val_loss: 1.1034 - val_accuracy: 0.6962\n",
      "Epoch 6/10\n",
      "981/981 [==============================] - 143s 145ms/step - loss: 0.1810 - accuracy: 0.9446 - val_loss: 1.2840 - val_accuracy: 0.7085\n",
      "Epoch 7/10\n",
      "981/981 [==============================] - 143s 145ms/step - loss: 0.0857 - accuracy: 0.9721 - val_loss: 1.4653 - val_accuracy: 0.7008\n",
      "Epoch 8/10\n",
      "981/981 [==============================] - 143s 145ms/step - loss: 0.0326 - accuracy: 0.9901 - val_loss: 1.6078 - val_accuracy: 0.7069\n",
      "Epoch 9/10\n",
      "981/981 [==============================] - 143s 146ms/step - loss: 0.0209 - accuracy: 0.9942 - val_loss: 1.6414 - val_accuracy: 0.7105\n",
      "Epoch 10/10\n",
      "981/981 [==============================] - 143s 145ms/step - loss: 0.0109 - accuracy: 0.9966 - val_loss: 1.6500 - val_accuracy: 0.7125\n"
     ]
    },
    {
     "data": {
      "text/plain": [
       "<keras.src.callbacks.History at 0x7fde0863f110>"
      ]
     },
     "execution_count": 14,
     "metadata": {},
     "output_type": "execute_result"
    }
   ],
   "source": [
    "learning_rate = 2e-5\n",
    "epochs = 10\n",
    "learner.fit_onecycle(learning_rate, epochs)"
   ]
  },
  {
   "cell_type": "code",
   "execution_count": 15,
   "id": "a2126b10-5cd2-455a-8cb1-299eb1c59d7c",
   "metadata": {
    "is_executing": true
   },
   "outputs": [
    {
     "data": {
      "text/plain": [
       "['happiness',\n",
       " 'fear',\n",
       " 'anger',\n",
       " 'sadness',\n",
       " 'disgust',\n",
       " 'shame',\n",
       " 'guilt',\n",
       " 'surprise']"
      ]
     },
     "execution_count": 15,
     "metadata": {},
     "output_type": "execute_result"
    }
   ],
   "source": [
    "class_names = np.array(class_names).tolist()\n",
    "class_names"
   ]
  },
  {
   "cell_type": "markdown",
   "id": "9b8564b4",
   "metadata": {},
   "source": [
    "## Testiranje"
   ]
  },
  {
   "cell_type": "code",
   "execution_count": 46,
   "id": "c41057c8-feab-4757-bda7-91dbeebe5e2e",
   "metadata": {
    "is_executing": true
   },
   "outputs": [
    {
     "name": "stdout",
     "output_type": "stream",
     "text": [
      "62/62 [==============================] - 15s 190ms/step\n",
      "              precision    recall  f1-score   support\n",
      "\n",
      "   happiness       0.83      0.85      0.84       310\n",
      "        fear       0.81      0.75      0.77       299\n",
      "       anger       0.64      0.74      0.69       310\n",
      "     sadness       0.77      0.78      0.78       323\n",
      "     disgust       0.64      0.66      0.65       232\n",
      "       shame       0.61      0.53      0.57       237\n",
      "       guilt       0.56      0.53      0.54       209\n",
      "    surprise       0.95      0.95      0.95        42\n",
      "\n",
      "    accuracy                           0.71      1962\n",
      "   macro avg       0.73      0.72      0.72      1962\n",
      "weighted avg       0.71      0.71      0.71      1962\n",
      "\n"
     ]
    }
   ],
   "source": [
    "result = learner.validate(val_data=(x_valid, y_valid), class_names=class_names)"
   ]
  },
  {
   "cell_type": "code",
   "execution_count": 52,
   "id": "13c65148",
   "metadata": {},
   "outputs": [
    {
     "data": {
      "text/plain": [
       "<Axes: title={'center': 'Confusion matrix, without normalization'}, xlabel='Predicted label', ylabel='True label'>"
      ]
     },
     "execution_count": 52,
     "metadata": {},
     "output_type": "execute_result"
    },
    {
     "data": {
      "image/png": "[encoded data removed]",
      "text/plain": [
       "<Figure size 1250x750 with 2 Axes>"
      ]
     },
     "metadata": {},
     "output_type": "display_data"
    }
   ],
   "source": [
    "plot_confusion_matrix_using_cm(result, classes=class_names)"
   ]
  },
  {
   "cell_type": "markdown",
   "id": "b7116026-ba5d-4f37-b04b-d436f6f06eb6",
   "metadata": {},
   "source": [
    "## Korištenje"
   ]
  },
  {
   "cell_type": "code",
   "execution_count": 53,
   "id": "05c617bd-18f8-496c-b761-47d38e1181ac",
   "metadata": {},
   "outputs": [
    {
     "data": {
      "text/plain": [
       "['happiness',\n",
       " 'fear',\n",
       " 'anger',\n",
       " 'sadness',\n",
       " 'disgust',\n",
       " 'shame',\n",
       " 'guilt',\n",
       " 'surprise']"
      ]
     },
     "execution_count": 53,
     "metadata": {},
     "output_type": "execute_result"
    }
   ],
   "source": [
    "predictor = ktrain.get_predictor(learner.model, preproc)\n",
    "predictor.get_classes()"
   ]
  },
  {
   "cell_type": "code",
   "execution_count": 54,
   "id": "f385bcd1-5258-4d43-b66e-53ad300a248c",
   "metadata": {},
   "outputs": [
    {
     "name": "stdout",
     "output_type": "stream",
     "text": [
      "predicted: happiness (0.08)\n"
     ]
    }
   ],
   "source": [
    "message = 'I like apples'\n",
    "\n",
    "start_time = time.time() \n",
    "prediction = predictor.predict(message)\n",
    "\n",
    "print('predicted: {} ({:.2f})'.format(prediction, (time.time() - start_time)))"
   ]
  },
  {
   "cell_type": "markdown",
   "id": "a88ab690-fbe2-4381-913e-ac303db333e0",
   "metadata": {},
   "source": [
    "## Spremanje modela"
   ]
  },
  {
   "cell_type": "code",
   "execution_count": 55,
   "id": "06ca35af-afd7-4103-86ff-66c7948487b7",
   "metadata": {},
   "outputs": [],
   "source": [
    "predictor.save(\"models/bert_model\")"
   ]
  },
  {
   "cell_type": "markdown",
   "id": "e956ef89-4ca7-41f4-85f1-5ea7c33daa97",
   "metadata": {},
   "source": [
    "# RoBERTa"
   ]
  },
  {
   "cell_type": "markdown",
   "id": "a92a0acc-a941-4ae9-9136-dbb86c9d5c90",
   "metadata": {},
   "source": [
    "## Priprema podataka"
   ]
  },
  {
   "cell_type": "code",
   "execution_count": 84,
   "id": "784901e5",
   "metadata": {},
   "outputs": [],
   "source": [
    "X_train = train_set['preprocessed_text']\n",
    "y_train = train_set['emotion']\n",
    "\n",
    "X_valid = valid_set['preprocessed_text']\n",
    "y_valid = valid_set['emotion']\n",
    "\n",
    "X_test = test_set['preprocessed_text']\n",
    "y_test = test_set['emotion']"
   ]
  },
  {
   "cell_type": "code",
   "execution_count": 85,
   "id": "783b0cec-202f-406d-8944-b2a693a58b5d",
   "metadata": {},
   "outputs": [],
   "source": [
    "y_train_reshaped = np.array(y_train).reshape(-1, 1)\n",
    "y_valid_reshaped = np.array(y_valid).reshape(-1, 1)\n",
    "y_test_reshaped = np.array(y_test).reshape(-1, 1)\n",
    "\n",
    "encoder = OneHotEncoder(sparse=False)\n",
    "\n",
    "y_train_onehot = encoder.fit_transform(y_train_reshaped)\n",
    "y_valid_onehot = encoder.fit_transform(y_valid_reshaped)\n",
    "y_test_onehot = encoder.transform(y_test_reshaped)"
   ]
  },
  {
   "cell_type": "code",
   "execution_count": 86,
   "id": "5ad8683c",
   "metadata": {},
   "outputs": [],
   "source": [
    "x_train = X_train.tolist()\n",
    "x_valid = X_valid.tolist()\n",
    "x_test = X_test.tolist()"
   ]
  },
  {
   "cell_type": "code",
   "execution_count": 87,
   "id": "e7a42e57-b4c4-4623-ab2a-a7d9a396bb40",
   "metadata": {},
   "outputs": [],
   "source": [
    "tokenizer_roberta = RobertaTokenizerFast.from_pretrained('cardiffnlp/twitter-roberta-base-emotion')"
   ]
  },
  {
   "cell_type": "code",
   "execution_count": 88,
   "id": "77686688-cfee-424d-8b24-97b9552266ae",
   "metadata": {},
   "outputs": [],
   "source": [
    "MAX_LEN = 128"
   ]
  },
  {
   "cell_type": "code",
   "execution_count": 89,
   "id": "941a362d-b45a-46e8-9e62-acdbef717bd5",
   "metadata": {},
   "outputs": [],
   "source": [
    "class EmotionsDataset(Dataset):\n",
    "    def __init__(self, data, labels, tokenizer, max_len):\n",
    "        self.data = data\n",
    "        self.labels = labels\n",
    "        self.tokenizer = tokenizer\n",
    "        self.max_len = max_len\n",
    "\n",
    "\n",
    "    def __len__(self):\n",
    "        return len(self.data)\n",
    "\n",
    "    def __getitem__(self, idx):\n",
    "        text = str(self.data[idx])\n",
    "        label = self.labels[idx]\n",
    "        encoding = self.tokenizer.encode_plus(\n",
    "            text,\n",
    "            add_special_tokens=True,\n",
    "            max_length=self.max_len,\n",
    "            padding='max_length',\n",
    "            return_tensors='pt',\n",
    "            truncation=True\n",
    "        )\n",
    "        input_ids = encoding['input_ids'].squeeze()\n",
    "        attention_mask = encoding['attention_mask'].squeeze()\n",
    "\n",
    "        return {\n",
    "            'input_ids': input_ids,\n",
    "            'attention_mask': attention_mask,\n",
    "            'label': torch.tensor(label, dtype=torch.long)\n",
    "        }"
   ]
  },
  {
   "cell_type": "code",
   "execution_count": 90,
   "id": "565cf224-abcc-488b-81f9-7b711c1ced2a",
   "metadata": {},
   "outputs": [],
   "source": [
    "train_dataset = EmotionsDataset(x_train, y_train_onehot, tokenizer_roberta, MAX_LEN)\n",
    "valid_dataset = EmotionsDataset(x_valid, y_valid_onehot, tokenizer_roberta, MAX_LEN)\n",
    "test_dataset = EmotionsDataset(x_test, y_test_onehot, tokenizer_roberta, MAX_LEN)"
   ]
  },
  {
   "cell_type": "code",
   "execution_count": 91,
   "id": "0a99f46d-5cfa-444f-a1da-dade291fe92d",
   "metadata": {},
   "outputs": [],
   "source": [
    "batch_size = 32\n",
    "\n",
    "train_loader = DataLoader(train_dataset, batch_size=batch_size, shuffle=True)\n",
    "valid_loader = DataLoader(valid_dataset, batch_size=batch_size, shuffle=True)\n",
    "test_loader = DataLoader(test_dataset, batch_size=batch_size)"
   ]
  },
  {
   "cell_type": "markdown",
   "id": "5a0928e1-793a-4a07-bf6d-5b4c72c0734a",
   "metadata": {},
   "source": [
    "## Treniranje modela"
   ]
  },
  {
   "cell_type": "code",
   "execution_count": 92,
   "id": "0b67d92c-bcac-4198-879b-a4ef581dd7c0",
   "metadata": {},
   "outputs": [],
   "source": [
    "roberta_model = RobertaModel.from_pretrained('cardiffnlp/twitter-roberta-base-emotion')\n",
    "\n",
    "class EmotionClassifier(nn.Module):\n",
    "    def __init__(self, bert_model, num_classes):\n",
    "        super(EmotionClassifier, self).__init__()\n",
    "        self.bert_model = bert_model\n",
    "        self.dropout = nn.Dropout(0.2)\n",
    "        self.fc = nn.Linear(bert_model.config.hidden_size, num_classes)\n",
    "\n",
    "    def forward(self, input_ids, attention_mask):\n",
    "        outputs = self.bert_model(input_ids=input_ids, attention_mask=attention_mask)\n",
    "        pooled_output = outputs.pooler_output\n",
    "        pooled_output = self.dropout(pooled_output)\n",
    "        logits = self.fc(pooled_output)\n",
    "        return logits"
   ]
  },
  {
   "cell_type": "code",
   "execution_count": 93,
   "id": "afbbd881-ac33-4689-8488-049bc72b66ea",
   "metadata": {},
   "outputs": [],
   "source": [
    "lr = 2e-5\n",
    "num_epochs = 10"
   ]
  },
  {
   "cell_type": "code",
   "execution_count": 95,
   "id": "e3094413-1e37-4c70-afc1-2fbb64dbe6e1",
   "metadata": {},
   "outputs": [
    {
     "name": "stderr",
     "output_type": "stream",
     "text": [
      "Epoch 1/10: 100%|██████████| 184/184 [08:27<00:00,  2.76s/it]\n"
     ]
    },
    {
     "name": "stdout",
     "output_type": "stream",
     "text": [
      "Epoch 1/10 | Training Loss: 1.3058 | Training Accuracy: 0.5604\n"
     ]
    },
    {
     "name": "stderr",
     "output_type": "stream",
     "text": [
      "Validation 1/10: 100%|██████████| 62/62 [00:56<00:00,  1.10it/s]\n"
     ]
    },
    {
     "name": "stdout",
     "output_type": "stream",
     "text": [
      "Validation Loss: 1.0238 | Validation Accuracy: 0.6662\n",
      "\n"
     ]
    },
    {
     "name": "stderr",
     "output_type": "stream",
     "text": [
      "Epoch 2/10: 100%|██████████| 184/184 [08:28<00:00,  2.76s/it]\n"
     ]
    },
    {
     "name": "stdout",
     "output_type": "stream",
     "text": [
      "Epoch 2/10 | Training Loss: 0.8193 | Training Accuracy: 0.7262\n"
     ]
    },
    {
     "name": "stderr",
     "output_type": "stream",
     "text": [
      "Validation 2/10: 100%|██████████| 62/62 [00:49<00:00,  1.25it/s]\n"
     ]
    },
    {
     "name": "stdout",
     "output_type": "stream",
     "text": [
      "Validation Loss: 0.8975 | Validation Accuracy: 0.7059\n",
      "\n"
     ]
    },
    {
     "name": "stderr",
     "output_type": "stream",
     "text": [
      "Epoch 3/10: 100%|██████████| 184/184 [08:25<00:00,  2.75s/it]\n"
     ]
    },
    {
     "name": "stdout",
     "output_type": "stream",
     "text": [
      "Epoch 3/10 | Training Loss: 0.6266 | Training Accuracy: 0.7863\n"
     ]
    },
    {
     "name": "stderr",
     "output_type": "stream",
     "text": [
      "Validation 3/10: 100%|██████████| 62/62 [00:45<00:00,  1.37it/s]\n"
     ]
    },
    {
     "name": "stdout",
     "output_type": "stream",
     "text": [
      "Validation Loss: 0.9014 | Validation Accuracy: 0.7115\n",
      "\n"
     ]
    },
    {
     "name": "stderr",
     "output_type": "stream",
     "text": [
      "Epoch 4/10: 100%|██████████| 184/184 [08:19<00:00,  2.71s/it]\n"
     ]
    },
    {
     "name": "stdout",
     "output_type": "stream",
     "text": [
      "Epoch 4/10 | Training Loss: 0.4530 | Training Accuracy: 0.8528\n"
     ]
    },
    {
     "name": "stderr",
     "output_type": "stream",
     "text": [
      "Validation 4/10: 100%|██████████| 62/62 [00:51<00:00,  1.19it/s]\n"
     ]
    },
    {
     "name": "stdout",
     "output_type": "stream",
     "text": [
      "Validation Loss: 0.9737 | Validation Accuracy: 0.7095\n",
      "\n"
     ]
    },
    {
     "name": "stderr",
     "output_type": "stream",
     "text": [
      "Epoch 5/10: 100%|██████████| 184/184 [08:31<00:00,  2.78s/it]\n"
     ]
    },
    {
     "name": "stdout",
     "output_type": "stream",
     "text": [
      "Epoch 5/10 | Training Loss: 0.3119 | Training Accuracy: 0.9001\n"
     ]
    },
    {
     "name": "stderr",
     "output_type": "stream",
     "text": [
      "Validation 5/10: 100%|██████████| 62/62 [00:39<00:00,  1.57it/s]\n"
     ]
    },
    {
     "name": "stdout",
     "output_type": "stream",
     "text": [
      "Validation Loss: 1.0978 | Validation Accuracy: 0.7146\n",
      "\n"
     ]
    },
    {
     "name": "stderr",
     "output_type": "stream",
     "text": [
      "Epoch 6/10: 100%|██████████| 184/184 [08:32<00:00,  2.79s/it]\n"
     ]
    },
    {
     "name": "stdout",
     "output_type": "stream",
     "text": [
      "Epoch 6/10 | Training Loss: 0.2253 | Training Accuracy: 0.9301\n"
     ]
    },
    {
     "name": "stderr",
     "output_type": "stream",
     "text": [
      "Validation 6/10: 100%|██████████| 62/62 [00:53<00:00,  1.16it/s]\n"
     ]
    },
    {
     "name": "stdout",
     "output_type": "stream",
     "text": [
      "Validation Loss: 1.1461 | Validation Accuracy: 0.7125\n",
      "\n"
     ]
    },
    {
     "name": "stderr",
     "output_type": "stream",
     "text": [
      "Epoch 7/10: 100%|██████████| 184/184 [08:25<00:00,  2.75s/it]\n"
     ]
    },
    {
     "name": "stdout",
     "output_type": "stream",
     "text": [
      "Epoch 7/10 | Training Loss: 0.1664 | Training Accuracy: 0.9476\n"
     ]
    },
    {
     "name": "stderr",
     "output_type": "stream",
     "text": [
      "Validation 7/10: 100%|██████████| 62/62 [00:54<00:00,  1.14it/s]\n"
     ]
    },
    {
     "name": "stdout",
     "output_type": "stream",
     "text": [
      "Validation Loss: 1.2891 | Validation Accuracy: 0.7100\n",
      "\n"
     ]
    },
    {
     "name": "stderr",
     "output_type": "stream",
     "text": [
      "Epoch 8/10: 100%|██████████| 184/184 [08:28<00:00,  2.76s/it]\n"
     ]
    },
    {
     "name": "stdout",
     "output_type": "stream",
     "text": [
      "Epoch 8/10 | Training Loss: 0.1078 | Training Accuracy: 0.9684\n"
     ]
    },
    {
     "name": "stderr",
     "output_type": "stream",
     "text": [
      "Validation 8/10: 100%|██████████| 62/62 [00:51<00:00,  1.21it/s]\n"
     ]
    },
    {
     "name": "stdout",
     "output_type": "stream",
     "text": [
      "Validation Loss: 1.3815 | Validation Accuracy: 0.7141\n",
      "\n"
     ]
    },
    {
     "name": "stderr",
     "output_type": "stream",
     "text": [
      "Epoch 9/10: 100%|██████████| 184/184 [08:27<00:00,  2.76s/it]\n"
     ]
    },
    {
     "name": "stdout",
     "output_type": "stream",
     "text": [
      "Epoch 9/10 | Training Loss: 0.0973 | Training Accuracy: 0.9720\n"
     ]
    },
    {
     "name": "stderr",
     "output_type": "stream",
     "text": [
      "Validation 9/10: 100%|██████████| 62/62 [00:56<00:00,  1.09it/s]\n"
     ]
    },
    {
     "name": "stdout",
     "output_type": "stream",
     "text": [
      "Validation Loss: 1.3336 | Validation Accuracy: 0.7146\n",
      "\n"
     ]
    },
    {
     "name": "stderr",
     "output_type": "stream",
     "text": [
      "Epoch 10/10: 100%|██████████| 184/184 [08:23<00:00,  2.73s/it]\n"
     ]
    },
    {
     "name": "stdout",
     "output_type": "stream",
     "text": [
      "Epoch 10/10 | Training Loss: 0.0632 | Training Accuracy: 0.9832\n"
     ]
    },
    {
     "name": "stderr",
     "output_type": "stream",
     "text": [
      "Validation 10/10: 100%|██████████| 62/62 [00:54<00:00,  1.14it/s]"
     ]
    },
    {
     "name": "stdout",
     "output_type": "stream",
     "text": [
      "Validation Loss: 1.4922 | Validation Accuracy: 0.7202\n",
      "\n"
     ]
    },
    {
     "name": "stderr",
     "output_type": "stream",
     "text": [
      "\n"
     ]
    }
   ],
   "source": [
    "classifier = EmotionClassifier(roberta_model, num_classes)\n",
    "\n",
    "optimizer = torch.optim.Adam(classifier.parameters(), lr=lr)\n",
    "criterion = nn.CrossEntropyLoss()\n",
    "\n",
    "for epoch in range(num_epochs):\n",
    "    classifier.train()\n",
    "    train_loss = 0.0\n",
    "    train_correct = 0\n",
    "    total = 0\n",
    "    \n",
    "    # Training loop\n",
    "    for batch in tqdm(train_loader, desc=f'Epoch {epoch+1}/{num_epochs}', dynamic_ncols=True):\n",
    "        input_ids = batch['input_ids']\n",
    "        attention_mask = batch['attention_mask']  \n",
    "        labels = batch['label']\n",
    "\n",
    "        optimizer.zero_grad()\n",
    "        outputs = classifier(input_ids, attention_mask)\n",
    "        _, predicted = torch.max(outputs, dim=1)\n",
    "        y_true = torch.max(labels, dim=1).indices\n",
    "        loss = criterion(outputs, y_true)\n",
    "\n",
    "        loss.backward()\n",
    "        optimizer.step()\n",
    "\n",
    "        total += labels.size(0)\n",
    "        train_correct += (predicted == y_true).sum().item()\n",
    "        train_loss += loss.item()\n",
    "\n",
    "    train_accuracy = train_correct / total\n",
    "    train_loss /= len(train_loader)\n",
    "    print(f\"Epoch {epoch+1}/{num_epochs} | Training Loss: {train_loss:.4f} | Training Accuracy: {train_accuracy:.4f}\")\n",
    "\n",
    "    # Validation loop\n",
    "    classifier.eval()\n",
    "    val_loss = 0.0\n",
    "    val_correct = 0\n",
    "    total_val = 0\n",
    "\n",
    "    with torch.no_grad():\n",
    "        for val_batch in tqdm(valid_loader, desc=f'Validation {epoch+1}/{num_epochs}', dynamic_ncols=True):\n",
    "            val_input_ids = val_batch['input_ids']\n",
    "            val_attention_mask = val_batch['attention_mask']\n",
    "            val_labels = val_batch['label']\n",
    "\n",
    "            val_outputs = classifier(val_input_ids, val_attention_mask)\n",
    "            _, val_predicted = torch.max(val_outputs, dim=1)\n",
    "            val_true = torch.max(val_labels, dim=1).indices\n",
    "            val_loss += criterion(val_outputs, val_true).item()\n",
    "\n",
    "            total_val += val_labels.size(0)\n",
    "            val_correct += (val_predicted == val_true).sum().item()\n",
    "\n",
    "    val_accuracy = val_correct / total_val\n",
    "    val_loss /= len(valid_loader)\n",
    "    print(f\"Validation Loss: {val_loss:.4f} | Validation Accuracy: {val_accuracy:.4f}\")\n",
    "    print()"
   ]
  },
  {
   "cell_type": "markdown",
   "id": "500088fb-5678-4da0-be4c-2d0b2f4b0d83",
   "metadata": {},
   "source": [
    "## Spremanje modela"
   ]
  },
  {
   "cell_type": "code",
   "execution_count": 96,
   "id": "eea81a2d-6314-4095-98ac-1b0901140524",
   "metadata": {},
   "outputs": [],
   "source": [
    "# spremiti classifier\n",
    "with open('models/RoBERTa.pkl', 'wb') as file:\n",
    "    pickle.dump(classifier, file)"
   ]
  },
  {
   "cell_type": "markdown",
   "id": "93e10d87-029c-4f7a-b129-8c3bd36f46c3",
   "metadata": {},
   "source": [
    "## Testiranje"
   ]
  },
  {
   "cell_type": "code",
   "execution_count": 97,
   "id": "11144e34-df85-46c8-929e-b5b7a4e03236",
   "metadata": {},
   "outputs": [
    {
     "name": "stderr",
     "output_type": "stream",
     "text": [
      "100%|██████████| 62/62 [00:42<00:00,  1.44it/s]"
     ]
    },
    {
     "name": "stdout",
     "output_type": "stream",
     "text": [
      "Test Loss: 1.4579 | Test Accuracy: 0.7083\n"
     ]
    },
    {
     "name": "stderr",
     "output_type": "stream",
     "text": [
      "\n"
     ]
    }
   ],
   "source": [
    "classifier.eval()\n",
    "\n",
    "test_loss = 0.0\n",
    "test_correct = 0\n",
    "total = 0\n",
    "predictions = []\n",
    "true_labels = []\n",
    "\n",
    "with torch.no_grad():\n",
    "    for batch in tqdm(test_loader, dynamic_ncols=True):\n",
    "        input_ids = batch['input_ids']\n",
    "        attention_mask = batch['attention_mask']\n",
    "        labels = batch['label']\n",
    "\n",
    "        outputs = classifier(input_ids, attention_mask)\n",
    "        _, predicted = torch.max(outputs, dim=1)\n",
    "        y_true = torch.max(labels, dim=1).indices\n",
    "        loss = criterion(outputs, y_true)\n",
    "\n",
    "        total += labels.size(0)\n",
    "        test_correct += (predicted == y_true).sum().item()\n",
    "        test_loss += loss.item()\n",
    "\n",
    "        predictions.extend(predicted.tolist())\n",
    "        true_labels.extend(y_true.tolist())\n",
    "    \n",
    "    test_accuracy = test_correct / total\n",
    "    test_loss /= len(test_loader)\n",
    "\n",
    "print(f'Test Loss: {test_loss:.4f} | Test Accuracy: {test_accuracy:.4f}')"
   ]
  },
  {
   "cell_type": "code",
   "execution_count": 98,
   "id": "08c37da2-dccb-457c-81be-126bd63209f3",
   "metadata": {},
   "outputs": [
    {
     "name": "stdout",
     "output_type": "stream",
     "text": [
      "Classification report:\n",
      "               precision    recall  f1-score   support\n",
      "\n",
      "   happiness       0.61      0.72      0.66       310\n",
      "        fear       0.61      0.74      0.67       231\n",
      "       anger       0.85      0.78      0.82       299\n",
      "     sadness       0.58      0.42      0.49       208\n",
      "     disgust       0.78      0.86      0.82       310\n",
      "       shame       0.80      0.71      0.75       323\n",
      "       guilt       0.63      0.57      0.60       237\n",
      "    surprise       0.89      0.98      0.93        43\n",
      "\n",
      "    accuracy                           0.71      1961\n",
      "   macro avg       0.72      0.72      0.72      1961\n",
      "weighted avg       0.71      0.71      0.71      1961\n",
      "\n"
     ]
    }
   ],
   "source": [
    "print(\"Classification report:\\n\", classification_report(true_labels, predictions, target_names=class_names))"
   ]
  },
  {
   "cell_type": "code",
   "execution_count": 110,
   "id": "5ae82269-671f-4451-ae2a-a2b155e9a86d",
   "metadata": {},
   "outputs": [
    {
     "data": {
      "image/png": "[encoded data removed]",
      "text/plain": [
       "<Figure size 1250x750 with 2 Axes>"
      ]
     },
     "metadata": {},
     "output_type": "display_data"
    }
   ],
   "source": [
    "plot_confusion_matrix(true_labels, predictions, class_names,\n",
    "                          normalize=False, # trebalo bi normalizirati jer je i u drugoj biljeznici tako\n",
    "                          title='Confusion matrix',\n",
    "                          cmap=plt.cm.Blues)\n",
    "plt.show()"
   ]
  },
  {
   "cell_type": "code",
   "execution_count": null,
   "id": "9268592b-df1c-4514-b09c-c280c7f4840c",
   "metadata": {},
   "outputs": [],
   "source": []
  }
 ],
 "metadata": {
  "kernelspec": {
   "display_name": "Python 3 (ipykernel)",
   "language": "python",
   "name": "python3"
  },
  "language_info": {
   "codemirror_mode": {
    "name": "ipython",
    "version": 3
   },
   "file_extension": ".py",
   "mimetype": "text/x-python",
   "name": "python",
   "nbconvert_exporter": "python",
   "pygments_lexer": "ipython3",
   "version": "3.11.5"
  }
 },
 "nbformat": 4,
 "nbformat_minor": 5
}
