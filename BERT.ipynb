{
 "cells": [
  {
   "cell_type": "markdown",
   "id": "544a2369-386d-47ee-856f-85a9040e5081",
   "metadata": {},
   "source": [
    "# BERT"
   ]
  },
  {
   "cell_type": "code",
   "execution_count": 1,
   "id": "5fba8af2-91b7-4893-8948-555d5eee214c",
   "metadata": {},
   "outputs": [
    {
     "name": "stdout",
     "output_type": "stream",
     "text": [
      "WARNING:tensorflow:From C:\\Users\\Korisnik\\anaconda3\\Lib\\site-packages\\keras\\src\\losses.py:2976: The name tf.losses.sparse_softmax_cross_entropy is deprecated. Please use tf.compat.v1.losses.sparse_softmax_cross_entropy instead.\n",
      "\n"
     ]
    },
    {
     "name": "stderr",
     "output_type": "stream",
     "text": [
      "None of PyTorch, TensorFlow >= 2.0, or Flax have been found. Models won't be available and only tokenizers, configuration and file/data utilities can be used.\n"
     ]
    }
   ],
   "source": [
    "import pandas as pd\n",
    "import numpy as np\n",
    "\n",
    "import ktrain\n",
    "from ktrain import text\n",
    "\n",
    "from sklearn.model_selection import train_test_split\n",
    "from sklearn.feature_extraction.text import CountVectorizer, TfidfVectorizer\n",
    "from sklearn.metrics import accuracy_score, f1_score, confusion_matrix, multilabel_confusion_matrix, classification_report\n",
    "\n",
    "import time\n",
    "\n",
    "import warnings\n",
    "warnings.filterwarnings('ignore')"
   ]
  },
  {
   "cell_type": "markdown",
   "id": "c80bf042-ac69-47fb-b466-fae0298a7874",
   "metadata": {},
   "source": [
    "## Učitavanje podataka"
   ]
  },
  {
   "cell_type": "code",
   "execution_count": 2,
   "id": "ba3496b1-3db8-4b48-964f-85b18259e56b",
   "metadata": {},
   "outputs": [
    {
     "data": {
      "text/html": [
       "<div>\n",
       "<style scoped>\n",
       "    .dataframe tbody tr th:only-of-type {\n",
       "        vertical-align: middle;\n",
       "    }\n",
       "\n",
       "    .dataframe tbody tr th {\n",
       "        vertical-align: top;\n",
       "    }\n",
       "\n",
       "    .dataframe thead th {\n",
       "        text-align: right;\n",
       "    }\n",
       "</style>\n",
       "<table border=\"1\" class=\"dataframe\">\n",
       "  <thead>\n",
       "    <tr style=\"text-align: right;\">\n",
       "      <th></th>\n",
       "      <th>emotion</th>\n",
       "      <th>original_text</th>\n",
       "      <th>text_tokens</th>\n",
       "      <th>preprocessed_text</th>\n",
       "    </tr>\n",
       "  </thead>\n",
       "  <tbody>\n",
       "    <tr>\n",
       "      <th>0</th>\n",
       "      <td>happiness</td>\n",
       "      <td>During the period of falling in love, each tim...</td>\n",
       "      <td>['period', 'falling', 'love', 'time', 'met', '...</td>\n",
       "      <td>period falling love time met especially met lo...</td>\n",
       "    </tr>\n",
       "    <tr>\n",
       "      <th>1</th>\n",
       "      <td>fear</td>\n",
       "      <td>When I was involved in a traffic accident.</td>\n",
       "      <td>['involved', 'traffic', 'accident']</td>\n",
       "      <td>involved traffic accident</td>\n",
       "    </tr>\n",
       "    <tr>\n",
       "      <th>2</th>\n",
       "      <td>anger</td>\n",
       "      <td>When I was driving home after  several days of...</td>\n",
       "      <td>['driving', 'home', 'several', 'day', 'hard', ...</td>\n",
       "      <td>driving home several day hard work motorist ah...</td>\n",
       "    </tr>\n",
       "    <tr>\n",
       "      <th>3</th>\n",
       "      <td>sadness</td>\n",
       "      <td>When I lost the person who meant the most to me.</td>\n",
       "      <td>['lost', 'person', 'meant']</td>\n",
       "      <td>lost person meant</td>\n",
       "    </tr>\n",
       "    <tr>\n",
       "      <th>4</th>\n",
       "      <td>disgust</td>\n",
       "      <td>The time I knocked a deer down - the sight of ...</td>\n",
       "      <td>['time', 'knocked', 'deer', 'sight', 'animal',...</td>\n",
       "      <td>time knocked deer sight animal injury helpless...</td>\n",
       "    </tr>\n",
       "    <tr>\n",
       "      <th>...</th>\n",
       "      <td>...</td>\n",
       "      <td>...</td>\n",
       "      <td>...</td>\n",
       "      <td>...</td>\n",
       "    </tr>\n",
       "    <tr>\n",
       "      <th>9882</th>\n",
       "      <td>shame</td>\n",
       "      <td>He gets real humiliated and has to leave .</td>\n",
       "      <td>['get', 'real', 'humiliated', 'leave']</td>\n",
       "      <td>get real humiliated leave</td>\n",
       "    </tr>\n",
       "    <tr>\n",
       "      <th>9883</th>\n",
       "      <td>shame</td>\n",
       "      <td>They aimed for higher status jobs and felt hum...</td>\n",
       "      <td>['aimed', 'higher', 'status', 'job', 'felt', '...</td>\n",
       "      <td>aimed higher status job felt humiliated unempl...</td>\n",
       "    </tr>\n",
       "    <tr>\n",
       "      <th>9884</th>\n",
       "      <td>shame</td>\n",
       "      <td>He cursed his lack of self-control ; he knew t...</td>\n",
       "      <td>['cursed', 'lack', 'selfcontrol', 'knew', 'old...</td>\n",
       "      <td>cursed lack selfcontrol knew old biddy seen fe...</td>\n",
       "    </tr>\n",
       "    <tr>\n",
       "      <th>9885</th>\n",
       "      <td>shame</td>\n",
       "      <td>Sometimes I've thought I 'll never forget wha...</td>\n",
       "      <td>['sometimes', 'ive', 'thought', 'never', 'forg...</td>\n",
       "      <td>sometimes ive thought never forget happened co...</td>\n",
       "    </tr>\n",
       "    <tr>\n",
       "      <th>9886</th>\n",
       "      <td>shame</td>\n",
       "      <td>GRAHAM TAYLOR will defy the fury of a humiliat...</td>\n",
       "      <td>['graham', 'taylor', 'defy', 'fury', 'humiliat...</td>\n",
       "      <td>graham taylor defy fury humiliated nation risk...</td>\n",
       "    </tr>\n",
       "  </tbody>\n",
       "</table>\n",
       "<p>9887 rows × 4 columns</p>\n",
       "</div>"
      ],
      "text/plain": [
       "        emotion                                      original_text  \\\n",
       "0     happiness  During the period of falling in love, each tim...   \n",
       "1          fear         When I was involved in a traffic accident.   \n",
       "2         anger  When I was driving home after  several days of...   \n",
       "3       sadness  When I lost the person who meant the most to me.    \n",
       "4       disgust  The time I knocked a deer down - the sight of ...   \n",
       "...         ...                                                ...   \n",
       "9882      shame        He gets real humiliated and has to leave .    \n",
       "9883      shame  They aimed for higher status jobs and felt hum...   \n",
       "9884      shame  He cursed his lack of self-control ; he knew t...   \n",
       "9885      shame   Sometimes I've thought I 'll never forget wha...   \n",
       "9886      shame  GRAHAM TAYLOR will defy the fury of a humiliat...   \n",
       "\n",
       "                                            text_tokens  \\\n",
       "0     ['period', 'falling', 'love', 'time', 'met', '...   \n",
       "1                   ['involved', 'traffic', 'accident']   \n",
       "2     ['driving', 'home', 'several', 'day', 'hard', ...   \n",
       "3                           ['lost', 'person', 'meant']   \n",
       "4     ['time', 'knocked', 'deer', 'sight', 'animal',...   \n",
       "...                                                 ...   \n",
       "9882             ['get', 'real', 'humiliated', 'leave']   \n",
       "9883  ['aimed', 'higher', 'status', 'job', 'felt', '...   \n",
       "9884  ['cursed', 'lack', 'selfcontrol', 'knew', 'old...   \n",
       "9885  ['sometimes', 'ive', 'thought', 'never', 'forg...   \n",
       "9886  ['graham', 'taylor', 'defy', 'fury', 'humiliat...   \n",
       "\n",
       "                                      preprocessed_text  \n",
       "0     period falling love time met especially met lo...  \n",
       "1                             involved traffic accident  \n",
       "2     driving home several day hard work motorist ah...  \n",
       "3                                     lost person meant  \n",
       "4     time knocked deer sight animal injury helpless...  \n",
       "...                                                 ...  \n",
       "9882                          get real humiliated leave  \n",
       "9883  aimed higher status job felt humiliated unempl...  \n",
       "9884  cursed lack selfcontrol knew old biddy seen fe...  \n",
       "9885  sometimes ive thought never forget happened co...  \n",
       "9886  graham taylor defy fury humiliated nation risk...  \n",
       "\n",
       "[9887 rows x 4 columns]"
      ]
     },
     "execution_count": 2,
     "metadata": {},
     "output_type": "execute_result"
    }
   ],
   "source": [
    "dataset_path = 'full_dataset/full_dataset.csv'\n",
    "data = pd.read_csv(dataset_path)\n",
    "data"
   ]
  },
  {
   "cell_type": "code",
   "execution_count": 3,
   "id": "d3aba341-4b08-4e61-bf77-22a9aff2df1a",
   "metadata": {},
   "outputs": [
    {
     "data": {
      "text/plain": [
       "array(['happiness', 'fear', 'anger', 'sadness', 'disgust', 'shame',\n",
       "       'guilt', 'surprise'], dtype=object)"
      ]
     },
     "execution_count": 3,
     "metadata": {},
     "output_type": "execute_result"
    }
   ],
   "source": [
    "class_names = data['emotion'].unique()\n",
    "class_names"
   ]
  },
  {
   "cell_type": "code",
   "execution_count": 4,
   "id": "c3b68db8-e0c5-4036-a679-2cb7e113bbe7",
   "metadata": {},
   "outputs": [
    {
     "data": {
      "text/plain": [
       "8"
      ]
     },
     "execution_count": 4,
     "metadata": {},
     "output_type": "execute_result"
    }
   ],
   "source": [
    "num_classes = len(class_names)\n",
    "num_classes"
   ]
  },
  {
   "cell_type": "markdown",
   "id": "d82daa88-5885-4b92-8400-1509333b1e73",
   "metadata": {},
   "source": [
    "## Priprema podataka"
   ]
  },
  {
   "cell_type": "code",
   "execution_count": 5,
   "id": "e78eb142-c202-4de1-8a6e-cc5af4ca748f",
   "metadata": {},
   "outputs": [
    {
     "name": "stdout",
     "output_type": "stream",
     "text": [
      "Training set size =  7909\n",
      "Test set size =  1978\n"
     ]
    }
   ],
   "source": [
    "X = data['preprocessed_text'] # ili staviti original_text\n",
    "Y = data['emotion']\n",
    "\n",
    "X_train, X_test, Y_train, Y_test = train_test_split(X, Y, test_size=0.2, random_state=357)\n",
    "\n",
    "print(\"Training set size = \", X_train.shape[0])\n",
    "print(\"Test set size = \", X_test.shape[0])"
   ]
  },
  {
   "cell_type": "code",
   "execution_count": 6,
   "id": "ce2d9d8b-4bb7-4cc0-aaf7-ea1b477a8817",
   "metadata": {},
   "outputs": [],
   "source": [
    "encoding = {\n",
    "    'happiness': 0,\n",
    "    'fear': 1,\n",
    "    'anger': 2,\n",
    "    'sadness': 3,\n",
    "    'disgust': 4,\n",
    "    'shame': 5,\n",
    "    'guilt': 6,\n",
    "    'surprise': 7\n",
    "}\n",
    "\n",
    "y_train = [encoding[x] for x in Y_train]\n",
    "y_test = [encoding[x] for x in Y_test]"
   ]
  },
  {
   "cell_type": "markdown",
   "id": "821417f6-37f8-4c21-94e0-5a3021e26bb7",
   "metadata": {},
   "source": [
    "Podaci se moraju posebno predprocesuirati da bi se mogli koristiti u BERT-u."
   ]
  },
  {
   "cell_type": "code",
   "execution_count": 7,
   "id": "083d0cc2-dabe-407e-821d-e16be7ddac3f",
   "metadata": {},
   "outputs": [],
   "source": [
    "X_train = X_train.tolist()\n",
    "X_test = X_test.tolist()"
   ]
  },
  {
   "cell_type": "code",
   "execution_count": 8,
   "id": "5a05995d-0101-449c-9367-f910a7b66334",
   "metadata": {},
   "outputs": [
    {
     "name": "stdout",
     "output_type": "stream",
     "text": [
      "preprocessing train...\n",
      "language: en\n"
     ]
    },
    {
     "data": {
      "text/html": [
       "\n",
       "<style>\n",
       "    /* Turns off some styling */\n",
       "    progress {\n",
       "        /* gets rid of default border in Firefox and Opera. */\n",
       "        border: none;\n",
       "        /* Needs to be in here for Safari polyfill so background images work as expected. */\n",
       "        background-size: auto;\n",
       "    }\n",
       "    progress:not([value]), progress:not([value])::-webkit-progress-bar {\n",
       "        background: repeating-linear-gradient(45deg, #7e7e7e, #7e7e7e 10px, #5c5c5c 10px, #5c5c5c 20px);\n",
       "    }\n",
       "    .progress-bar-interrupted, .progress-bar-interrupted::-webkit-progress-bar {\n",
       "        background: #F44336;\n",
       "    }\n",
       "</style>\n"
      ],
      "text/plain": [
       "<IPython.core.display.HTML object>"
      ]
     },
     "metadata": {},
     "output_type": "display_data"
    },
    {
     "data": {
      "text/html": [
       "done."
      ],
      "text/plain": [
       "<IPython.core.display.HTML object>"
      ]
     },
     "metadata": {},
     "output_type": "display_data"
    },
    {
     "name": "stdout",
     "output_type": "stream",
     "text": [
      "Is Multi-Label? False\n",
      "preprocessing test...\n",
      "language: en\n"
     ]
    },
    {
     "data": {
      "text/html": [
       "\n",
       "<style>\n",
       "    /* Turns off some styling */\n",
       "    progress {\n",
       "        /* gets rid of default border in Firefox and Opera. */\n",
       "        border: none;\n",
       "        /* Needs to be in here for Safari polyfill so background images work as expected. */\n",
       "        background-size: auto;\n",
       "    }\n",
       "    progress:not([value]), progress:not([value])::-webkit-progress-bar {\n",
       "        background: repeating-linear-gradient(45deg, #7e7e7e, #7e7e7e 10px, #5c5c5c 10px, #5c5c5c 20px);\n",
       "    }\n",
       "    .progress-bar-interrupted, .progress-bar-interrupted::-webkit-progress-bar {\n",
       "        background: #F44336;\n",
       "    }\n",
       "</style>\n"
      ],
      "text/plain": [
       "<IPython.core.display.HTML object>"
      ]
     },
     "metadata": {},
     "output_type": "display_data"
    },
    {
     "data": {
      "text/html": [
       "done."
      ],
      "text/plain": [
       "<IPython.core.display.HTML object>"
      ]
     },
     "metadata": {},
     "output_type": "display_data"
    },
    {
     "name": "stdout",
     "output_type": "stream",
     "text": [
      "task: text classification\n"
     ]
    }
   ],
   "source": [
    "(x_train,  y_train), (x_test, y_test), preproc = text.texts_from_array(x_train=X_train, y_train=y_train,\n",
    "                                                                       x_test=X_test, y_test=y_test,\n",
    "                                                                       class_names=class_names,\n",
    "                                                                       preprocess_mode='bert',\n",
    "                                                                       maxlen=350, \n",
    "                                                                       max_features=35000)"
   ]
  },
  {
   "cell_type": "markdown",
   "id": "0d57ec31-ce40-4b05-b8dc-e447eb823e87",
   "metadata": {},
   "source": [
    "## Treniranje"
   ]
  },
  {
   "cell_type": "code",
   "execution_count": 9,
   "id": "e3d199d5-bf28-47e5-aa55-34f469c9bfa6",
   "metadata": {},
   "outputs": [
    {
     "name": "stdout",
     "output_type": "stream",
     "text": [
      "Is Multi-Label? False\n",
      "maxlen is 350\n",
      "done.\n"
     ]
    }
   ],
   "source": [
    "model = text.text_classifier('bert', train_data=(x_train, y_train), preproc=preproc)"
   ]
  },
  {
   "cell_type": "code",
   "execution_count": 10,
   "id": "058fd75c-f174-4013-83a3-1a6b982dfa43",
   "metadata": {},
   "outputs": [],
   "source": [
    "learner = ktrain.get_learner(model, train_data=(x_train, y_train), \n",
    "                             val_data=(x_test, y_test),\n",
    "                             batch_size=6)"
   ]
  },
  {
   "cell_type": "code",
   "execution_count": 11,
   "id": "195c6d74-6e47-43e2-94eb-108aefd9ca25",
   "metadata": {},
   "outputs": [
    {
     "name": "stdout",
     "output_type": "stream",
     "text": [
      "\n",
      "\n",
      "begin training using onecycle policy with max lr of 2e-05...\n",
      "Epoch 1/5\n",
      "1319/1319 [==============================] - 9168s 7s/step - loss: 1.5106 - accuracy: 0.4405 - val_loss: 0.9646 - val_accuracy: 0.6648\n",
      "Epoch 2/5\n",
      "1319/1319 [==============================] - 8918s 7s/step - loss: 0.8342 - accuracy: 0.7163 - val_loss: 0.8485 - val_accuracy: 0.7149\n",
      "Epoch 3/5\n",
      "1319/1319 [==============================] - 9066s 7s/step - loss: 0.5994 - accuracy: 0.7911 - val_loss: 0.8853 - val_accuracy: 0.7321\n",
      "Epoch 4/5\n",
      "1319/1319 [==============================] - 9348s 7s/step - loss: 0.3002 - accuracy: 0.8996 - val_loss: 0.9889 - val_accuracy: 0.7164\n",
      "Epoch 5/5\n",
      "1319/1319 [==============================] - 8905s 7s/step - loss: 0.1049 - accuracy: 0.9702 - val_loss: 1.1123 - val_accuracy: 0.7240\n"
     ]
    },
    {
     "data": {
      "text/plain": [
       "<keras.src.callbacks.History at 0x177d373c4d0>"
      ]
     },
     "execution_count": 11,
     "metadata": {},
     "output_type": "execute_result"
    }
   ],
   "source": [
    "learning_rate = 2e-5\n",
    "epochs = 5\n",
    "learner.fit_onecycle(learning_rate, epochs)"
   ]
  },
  {
   "cell_type": "code",
   "execution_count": 23,
   "id": "a2126b10-5cd2-455a-8cb1-299eb1c59d7c",
   "metadata": {},
   "outputs": [
    {
     "data": {
      "text/plain": [
       "['happiness',\n",
       " 'fear',\n",
       " 'anger',\n",
       " 'sadness',\n",
       " 'disgust',\n",
       " 'shame',\n",
       " 'guilt',\n",
       " 'surprise']"
      ]
     },
     "execution_count": 23,
     "metadata": {},
     "output_type": "execute_result"
    }
   ],
   "source": [
    "class_names = np.array(class_names).tolist()\n",
    "class_names"
   ]
  },
  {
   "cell_type": "code",
   "execution_count": 24,
   "id": "c41057c8-feab-4757-bda7-91dbeebe5e2e",
   "metadata": {},
   "outputs": [
    {
     "name": "stdout",
     "output_type": "stream",
     "text": [
      "62/62 [==============================] - 628s 10s/step\n",
      "              precision    recall  f1-score   support\n",
      "\n",
      "   happiness       0.84      0.84      0.84       295\n",
      "        fear       0.82      0.81      0.82       313\n",
      "       anger       0.68      0.65      0.67       314\n",
      "     sadness       0.79      0.80      0.79       334\n",
      "     disgust       0.64      0.67      0.65       226\n",
      "       shame       0.61      0.63      0.62       253\n",
      "       guilt       0.56      0.54      0.55       205\n",
      "    surprise       1.00      1.00      1.00        38\n",
      "\n",
      "    accuracy                           0.72      1978\n",
      "   macro avg       0.74      0.74      0.74      1978\n",
      "weighted avg       0.72      0.72      0.72      1978\n",
      "\n"
     ]
    },
    {
     "data": {
      "text/plain": [
       "array([[247,   9,   4,  19,   5,   4,   7,   0],\n",
       "       [ 10, 253,  16,   8,  12,   8,   6,   0],\n",
       "       [  5,  10, 204,  15,  32,  24,  24,   0],\n",
       "       [ 12,  11,   7, 267,  11,  12,  14,   0],\n",
       "       [  2,   7,  29,   9, 152,  19,   8,   0],\n",
       "       [ 12,   9,  17,   8,  17, 160,  30,   0],\n",
       "       [  5,   8,  22,  13,  10,  36, 111,   0],\n",
       "       [  0,   0,   0,   0,   0,   0,   0,  38]], dtype=int64)"
      ]
     },
     "execution_count": 24,
     "metadata": {},
     "output_type": "execute_result"
    }
   ],
   "source": [
    "learner.validate(val_data=(x_test, y_test), class_names=class_names)"
   ]
  },
  {
   "cell_type": "markdown",
   "id": "b7116026-ba5d-4f37-b04b-d436f6f06eb6",
   "metadata": {},
   "source": [
    "## Testiranje"
   ]
  },
  {
   "cell_type": "code",
   "execution_count": 25,
   "id": "05c617bd-18f8-496c-b761-47d38e1181ac",
   "metadata": {},
   "outputs": [
    {
     "data": {
      "text/plain": [
       "['happiness',\n",
       " 'fear',\n",
       " 'anger',\n",
       " 'sadness',\n",
       " 'disgust',\n",
       " 'shame',\n",
       " 'guilt',\n",
       " 'surprise']"
      ]
     },
     "execution_count": 25,
     "metadata": {},
     "output_type": "execute_result"
    }
   ],
   "source": [
    "predictor = ktrain.get_predictor(learner.model, preproc)\n",
    "predictor.get_classes()"
   ]
  },
  {
   "cell_type": "code",
   "execution_count": 29,
   "id": "f385bcd1-5258-4d43-b66e-53ad300a248c",
   "metadata": {},
   "outputs": [
    {
     "name": "stdout",
     "output_type": "stream",
     "text": [
      "predicted: happiness (0.32)\n"
     ]
    }
   ],
   "source": [
    "message = 'I like apples'\n",
    "\n",
    "start_time = time.time() \n",
    "prediction = predictor.predict(message)\n",
    "\n",
    "print('predicted: {} ({:.2f})'.format(prediction, (time.time() - start_time)))"
   ]
  },
  {
   "cell_type": "markdown",
   "id": "a88ab690-fbe2-4381-913e-ac303db333e0",
   "metadata": {},
   "source": [
    "## Spremanje modela"
   ]
  },
  {
   "cell_type": "code",
   "execution_count": 19,
   "id": "06ca35af-afd7-4103-86ff-66c7948487b7",
   "metadata": {},
   "outputs": [],
   "source": [
    "predictor.save(\"models/bert_model\")"
   ]
  },
  {
   "cell_type": "code",
   "execution_count": null,
   "id": "4b6b7720-a599-48ff-a3af-97e7abbf6cf6",
   "metadata": {},
   "outputs": [],
   "source": []
  }
 ],
 "metadata": {
  "kernelspec": {
   "display_name": "Python 3 (ipykernel)",
   "language": "python",
   "name": "python3"
  },
  "language_info": {
   "codemirror_mode": {
    "name": "ipython",
    "version": 3
   },
   "file_extension": ".py",
   "mimetype": "text/x-python",
   "name": "python",
   "nbconvert_exporter": "python",
   "pygments_lexer": "ipython3",
   "version": "3.11.5"
  }
 },
 "nbformat": 4,
 "nbformat_minor": 5
}
